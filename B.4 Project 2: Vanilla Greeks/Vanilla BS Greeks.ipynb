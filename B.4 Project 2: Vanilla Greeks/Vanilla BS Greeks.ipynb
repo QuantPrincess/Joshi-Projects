{
 "cells": [
  {
   "cell_type": "code",
   "execution_count": 3,
   "id": "ebd76435",
   "metadata": {},
   "outputs": [],
   "source": [
    "import numpy as np\n",
    "import scipy\n",
    "from scipy.stats import norm\n",
    "import matplotlib.pyplot as plt\n",
    "import random"
   ]
  },
  {
   "cell_type": "code",
   "execution_count": 6,
   "id": "415b8420",
   "metadata": {},
   "outputs": [],
   "source": [
    "# Delta of a call option\n",
    "def get_delta_call(T,r,d,S0,K,sigma):\n",
    "    d1 = (np.log(S0/K)+(r+0.5*sigma**2)*T) / (sigma*np.sqrt(T))\n",
    "    d2 = d1-sigma*np.sqrt(T)\n",
    "    delta= np.exp(-d*T)*norm.cdf(d1)\n",
    "    return delta"
   ]
  },
  {
   "cell_type": "code",
   "execution_count": 7,
   "id": "1900a6d3",
   "metadata": {},
   "outputs": [
    {
     "data": {
      "text/plain": [
       "0.5236751354724235"
      ]
     },
     "execution_count": 7,
     "metadata": {},
     "output_type": "execute_result"
    }
   ],
   "source": [
    "get_delta_call(1,0,0,100,110,0.5)"
   ]
  },
  {
   "cell_type": "code",
   "execution_count": 8,
   "id": "02d93d85",
   "metadata": {},
   "outputs": [],
   "source": [
    "# Gamma of a call option\n",
    "def get_gamma_call(T,r,d,S0,K,sigma):\n",
    "    d1 = (np.log(S0/K)+(r+0.5*sigma**2)*T) / (sigma*np.sqrt(T))\n",
    "    d2 = d1-sigma*np.sqrt(T)\n",
    "    gamma= (np.exp(-d*T))/(S0*sigma*np.sqrt(T))*norm.pdf(d1)\n",
    "    return gamma"
   ]
  },
  {
   "cell_type": "code",
   "execution_count": 9,
   "id": "7ab62561",
   "metadata": {},
   "outputs": [
    {
     "data": {
      "text/plain": [
       "0.00796479152793977"
      ]
     },
     "execution_count": 9,
     "metadata": {},
     "output_type": "execute_result"
    }
   ],
   "source": [
    "get_gamma_call(1,0,0,100,110,0.5)"
   ]
  },
  {
   "cell_type": "code",
   "execution_count": 10,
   "id": "d528b0ed",
   "metadata": {},
   "outputs": [],
   "source": [
    "# vega of a call option\n",
    "def get_vega_call(T,r,d,S0,K,sigma):\n",
    "    d1 = (np.log(S0/K)+(r+0.5*sigma**2)*T) / (sigma*np.sqrt(T))\n",
    "    d2 = d1-sigma*np.sqrt(T)\n",
    "    vega = S0*np.exp(-d*T)*np.sqrt(T)*norm.pdf(d1)\n",
    "    return vega"
   ]
  },
  {
   "cell_type": "code",
   "execution_count": 11,
   "id": "db785b27",
   "metadata": {},
   "outputs": [
    {
     "data": {
      "text/plain": [
       "39.823957639698854"
      ]
     },
     "execution_count": 11,
     "metadata": {},
     "output_type": "execute_result"
    }
   ],
   "source": [
    "get_vega_call(1,0,0,100,110,0.5)"
   ]
  },
  {
   "cell_type": "code",
   "execution_count": 12,
   "id": "82ffb884",
   "metadata": {},
   "outputs": [],
   "source": [
    "# Rho of a call option\n",
    "def get_rho_call(T,r,d,S0,K,sigma):\n",
    "    d1 = (np.log(S0/K)+(r+0.5*sigma**2)*T) / (sigma*np.sqrt(T))\n",
    "    d2 = d1-sigma*np.sqrt(T)\n",
    "    rho=K*T* np.exp(-r*T)*norm.cdf(d2)\n",
    "    return rho"
   ]
  },
  {
   "cell_type": "code",
   "execution_count": 13,
   "id": "6d944bd8",
   "metadata": {},
   "outputs": [
    {
     "data": {
      "text/plain": [
       "36.27183235267212"
      ]
     },
     "execution_count": 13,
     "metadata": {},
     "output_type": "execute_result"
    }
   ],
   "source": [
    "get_rho_call(1,0,0,100,110,0.5)"
   ]
  },
  {
   "cell_type": "code",
   "execution_count": 19,
   "id": "687bba9c",
   "metadata": {},
   "outputs": [],
   "source": [
    "# Theta of a call option\n",
    "def get_theta_call(T,r,d,S0,K,sigma):\n",
    "    d1 = (np.log(S0/K)+(r+0.5*sigma**2)*T) / (sigma*np.sqrt(T))\n",
    "    d2 = d1-sigma*np.sqrt(T)\n",
    "    theta= (1/T)*((-1*((S0*sigma*np.exp(-d*T)*norm.pdf(d1))/2*np.sqrt(T)))-r*K*np.exp(-r*T)+d*S0*np.exp(-d*T)*norm.cdf(d1))\n",
    "    return theta"
   ]
  },
  {
   "cell_type": "code",
   "execution_count": 20,
   "id": "82fd4ff3",
   "metadata": {},
   "outputs": [
    {
     "data": {
      "text/plain": [
       "-9.955989409924713"
      ]
     },
     "execution_count": 20,
     "metadata": {},
     "output_type": "execute_result"
    }
   ],
   "source": [
    "get_theta_call(1,0,0,100,110,0.5)"
   ]
  },
  {
   "cell_type": "code",
   "execution_count": 27,
   "id": "a3eb2292",
   "metadata": {},
   "outputs": [],
   "source": [
    "# Price of Call Option function\n",
    "def get_call( T, r, d, S0,K, sigma):\n",
    "    if K==0 or T==0 or sigma ==0:\n",
    "        print('Not a valid input')\n",
    "    elif d == 0:\n",
    "        d1 = (np.log(S0/K)+(r+0.5*sigma**2)*T) / (sigma*np.sqrt(T))\n",
    "        d2 = d1-sigma*np.sqrt(T)\n",
    "\n",
    "        call = S0*norm.cdf(d1) - K*np.exp(-r*T)*norm.cdf(d2)\n",
    "        print(call)\n",
    "        return call\n",
    "    elif d < 0:\n",
    "        print('Not a valid dividend input')\n",
    "    else:\n",
    "        d1 = (np.log(S0/K)+(r+0.5*sigma**2)*T) / (sigma*np.sqrt(T))\n",
    "        d2 = d1-sigma*np.sqrt(T)\n",
    "\n",
    "        call = np.exp(-d*T)*S0*norm.cdf(d1) - K*np.exp(-r*T)*norm.cdf(d2)\n",
    "        print(call)\n",
    "        return(call)"
   ]
  },
  {
   "cell_type": "code",
   "execution_count": 28,
   "id": "574fc5ce",
   "metadata": {},
   "outputs": [
    {
     "name": "stdout",
     "output_type": "stream",
     "text": [
      "16.095681194570233\n"
     ]
    },
    {
     "data": {
      "text/plain": [
       "16.095681194570233"
      ]
     },
     "execution_count": 28,
     "metadata": {},
     "output_type": "execute_result"
    }
   ],
   "source": [
    "get_call(1,0,0,100,110,0.5)"
   ]
  },
  {
   "cell_type": "code",
   "execution_count": 39,
   "id": "dd5333b8",
   "metadata": {},
   "outputs": [
    {
     "name": "stdout",
     "output_type": "stream",
     "text": [
      "16.09568124693775\n",
      "16.095681194570233\n",
      "Code works because delta is derivative and you are using limit  definition of derivative when epsilon gets really close to 0\n",
      "4.774474138269369e-08\n"
     ]
    }
   ],
   "source": [
    "# Testing delta\n",
    "eps=0.0000001\n",
    "dBS = (1/eps)*(get_call(1,0,0,100+eps,110,0.5) - get_call(1,0,0,100,110,0.5))\n",
    "delta = get_delta_call(1,0,0,100,110,0.5)\n",
    "if np.abs(delta-dBS)<.001:\n",
    "    print(\"Code works because delta is derivative and you are using limit  definition of derivative when epsilon gets really close to 0\")\n",
    "else:\n",
    "    print('Soph messed up code')\n",
    "print (np.abs(delta-dBS))"
   ]
  },
  {
   "cell_type": "code",
   "execution_count": 36,
   "id": "9c0808f2",
   "metadata": {},
   "outputs": [
    {
     "name": "stdout",
     "output_type": "stream",
     "text": [
      "Code works 0.00796479215914303 0.00796479152793977\n",
      "6.312032597988182e-10\n"
     ]
    }
   ],
   "source": [
    "# Testing gamma - finite difference deltas\n",
    "eps=0.0000001\n",
    "ddel = (1/eps)*(get_delta_call(1,0,0,100+eps,110,0.5) - get_delta_call(1,0,0,100,110,0.5))\n",
    "gamma = get_gamma_call(1,0,0,100,110,0.5)\n",
    "if np.abs(gamma-ddel)<.001:\n",
    "    print(\"Code works\", ddel, gamma)\n",
    "else:\n",
    "    print('Soph messed up code')\n",
    "print (np.abs(gamma-ddel))"
   ]
  },
  {
   "cell_type": "code",
   "execution_count": 42,
   "id": "b6da083e",
   "metadata": {},
   "outputs": [
    {
     "name": "stdout",
     "output_type": "stream",
     "text": [
      "16.095685176965986\n",
      "16.095681194570233\n",
      "Code works dBSVol 39.82395753610035 vega 39.823957639698854\n",
      "1.0359850222130262e-07\n"
     ]
    }
   ],
   "source": [
    "# Testing vega - finite difference BS change in vol\n",
    "eps=0.0000001\n",
    "dBSvol = (1/eps)*(get_call(1,0,0,100,110,0.5+eps) - get_call(1,0,0,100,110,0.5))\n",
    "vega = get_vega_call(1,0,0,100,110,0.5)\n",
    "if np.abs(vega-dBSvol)<.001:\n",
    "    print(\"Code works\",'dBSVol', dvol, 'vega', vega)\n",
    "else:\n",
    "    print('Soph messed up code')\n",
    "print (np.abs(vega-dBSvol))"
   ]
  },
  {
   "cell_type": "code",
   "execution_count": 46,
   "id": "de71f8a2",
   "metadata": {},
   "outputs": [
    {
     "name": "stdout",
     "output_type": "stream",
     "text": [
      "16.095684821753686\n",
      "16.095681194570233\n",
      "Code works dBSrho 36.27183453147609 rho 36.27183235267212\n",
      "2.178803967467502e-06\n"
     ]
    }
   ],
   "source": [
    "# Testing rho - finite difference BS change in rho\n",
    "eps=0.0000001\n",
    "dBSrho = (1/eps)*(get_call(1,0+eps,0,100,110,0.5) - get_call(1,0,0,100,110,0.5))\n",
    "rho = get_rho_call(1,0,0,100,110,0.5)\n",
    "if np.abs(rho-dBSrho)<.001:\n",
    "    print(\"Code works\",'dBSrho', dBSrho, 'rho', rho)\n",
    "else:\n",
    "    print('Soph messed up code')\n",
    "print (np.abs(rho-dBSrho))"
   ]
  },
  {
   "cell_type": "code",
   "execution_count": 53,
   "id": "4538a266",
   "metadata": {},
   "outputs": [
    {
     "name": "stdout",
     "output_type": "stream",
     "text": [
      "16.095682190169143\n",
      "16.095681194570233\n",
      "Code works dBStheta -9.955989099807994 theta -9.955989409924713\n",
      "3.1011671985936573e-07\n"
     ]
    }
   ],
   "source": [
    "# Testing theta - finite difference BS change in theta\n",
    "eps=0.0000001\n",
    "dBStheta = (-1)*(1/eps)*(get_call(1+eps,0,0,100,110,0.5) - get_call(1,0,0,100,110,0.5))\n",
    "theta = get_theta_call(1,0,0,100,110,0.5)\n",
    "if np.abs(theta-dBStheta)<.001:\n",
    "    print(\"Code works\",'dBStheta', dBStheta, 'theta', theta)\n",
    "else:\n",
    "    print('Soph messed up code')\n",
    "print (np.abs(theta-dBStheta))\n"
   ]
  },
  {
   "cell_type": "code",
   "execution_count": 55,
   "id": "a20ebf07",
   "metadata": {},
   "outputs": [
    {
     "data": {
      "image/png": "[encoded data removed]",
      "text/plain": [
       "<Figure size 432x288 with 1 Axes>"
      ]
     },
     "metadata": {
      "needs_background": "light"
     },
     "output_type": "display_data"
    }
   ],
   "source": [
    "#graph delta with respect to spot strike = 100\n",
    "spot_list=[]\n",
    "delta_list=[]\n",
    "for i in range (1,1000,5):\n",
    "    delta = get_delta_call(1,0,0,i,100,0.5)\n",
    "    delta_list.append(delta)\n",
    "for j in range (1,1000,5):\n",
    "    spot_list.append(j)\n",
    "\n",
    "for q in range(0,len(delta_list)):\n",
    "    x1=[spot_list[q]]\n",
    "    y1= [delta_list[q]]\n",
    "    plt.scatter(x1,y1, label = \"stars\", color= \"blue\", marker = \"*\", s = 30)\n",
    "\n",
    "plt.xlabel('Spot - S0')\n",
    "plt.ylabel('Delta')\n",
    "plt.show()\n"
   ]
  },
  {
   "cell_type": "code",
   "execution_count": 112,
   "id": "d49f5846",
   "metadata": {},
   "outputs": [
    {
     "data": {
      "image/png": "[encoded data removed]",
      "text/plain": [
       "<Figure size 432x288 with 1 Axes>"
      ]
     },
     "metadata": {
      "needs_background": "light"
     },
     "output_type": "display_data"
    },
    {
     "data": {
      "image/png": "[encoded data removed]",
      "text/plain": [
       "<Figure size 432x288 with 1 Axes>"
      ]
     },
     "metadata": {
      "needs_background": "light"
     },
     "output_type": "display_data"
    },
    {
     "data": {
      "image/png": "[encoded data removed]",
      "text/plain": [
       "<Figure size 432x288 with 1 Axes>"
      ]
     },
     "metadata": {
      "needs_background": "light"
     },
     "output_type": "display_data"
    },
    {
     "data": {
      "text/plain": [
       "[<matplotlib.lines.Line2D at 0x126817f10>]"
      ]
     },
     "execution_count": 112,
     "metadata": {},
     "output_type": "execute_result"
    },
    {
     "data": {
      "image/png": "[encoded data removed]",
      "text/plain": [
       "<Figure size 432x288 with 1 Axes>"
      ]
     },
     "metadata": {
      "needs_background": "light"
     },
     "output_type": "display_data"
    }
   ],
   "source": [
    "#graph delta as functino of time for ITM OTM ATM\n",
    "\n",
    "#ITM spot = 100 K = 10\n",
    "time_list=[]\n",
    "delta_list=[]\n",
    "for i in range (1,100):\n",
    "    delta = get_delta_call(i,0,0,100,10,0.5)\n",
    "    delta_list.append(delta)\n",
    "for j in range (1,100):\n",
    "    time_list.append(j)\n",
    "\n",
    "for q in range(0,len(delta_list)):\n",
    "    x1=[time_list[q]]\n",
    "    y1= [delta_list[q]]\n",
    "    plt.scatter(x1,y1, label = \"stars\", color= \"blue\", marker = \"*\", s = 30)\n",
    "\n",
    "plt.xlabel('Time - T')\n",
    "plt.ylabel('Delta')\n",
    "plt.show()\n",
    "\n",
    "#OTM spot = 100 K = 500\n",
    "time_list=[]\n",
    "delta_list=[]\n",
    "for i in range (1,100):\n",
    "    delta = get_delta_call(i,0,0,100,500,0.5)\n",
    "    delta_list.append(delta)\n",
    "for j in range (1,100):\n",
    "    time_list.append(j)\n",
    "\n",
    "for q in range(0,len(delta_list)):\n",
    "    x1=[time_list[q]]\n",
    "    y1= [delta_list[q]]\n",
    "    plt.scatter(x1,y1, label = \"stars\", color= \"blue\", marker = \"*\", s = 30)\n",
    "\n",
    "plt.xlabel('Time - T')\n",
    "plt.ylabel('Delta')\n",
    "plt.show()\n",
    "\n",
    "#ATM spot = 100 K = 100\n",
    "time_list=[]\n",
    "delta_list=[]\n",
    "for i in range (1,100):\n",
    "    delta = get_delta_call(i,0,0,100,100,0.5)\n",
    "    delta_list.append(delta)\n",
    "for j in range (1,100):\n",
    "    time_list.append(j)\n",
    "\n",
    "for q in range(0,len(delta_list)):\n",
    "    x1=[time_list[q]]\n",
    "    y1= [delta_list[q]]\n",
    "    plt.scatter(x1,y1, label = \"stars\", color= \"blue\", marker = \"*\", s = 30)\n",
    "\n",
    "plt.xlabel('Time - T')\n",
    "plt.ylabel('Delta')\n",
    "plt.show()\n"
   ]
  },
  {
   "cell_type": "code",
   "execution_count": 111,
   "id": "6dbed358",
   "metadata": {},
   "outputs": [
    {
     "data": {
      "image/png": "[encoded data removed]",
      "text/plain": [
       "<Figure size 432x288 with 1 Axes>"
      ]
     },
     "metadata": {
      "needs_background": "light"
     },
     "output_type": "display_data"
    },
    {
     "data": {
      "text/plain": [
       "[<matplotlib.lines.Line2D at 0x12782bd90>]"
      ]
     },
     "execution_count": 111,
     "metadata": {},
     "output_type": "execute_result"
    },
    {
     "data": {
      "image/png": "[encoded data removed]",
      "text/plain": [
       "<Figure size 432x288 with 1 Axes>"
      ]
     },
     "metadata": {
      "needs_background": "light"
     },
     "output_type": "display_data"
    }
   ],
   "source": [
    "#graph gamma with respect to spot strike = 100\n",
    "spot_list=[]\n",
    "gamma_list=[]\n",
    "for i in range (1,1000,5):\n",
    "    gamma = get_gamma_call(1,0,0,i,250,0.5)\n",
    "    gamma_list.append(gamma)\n",
    "for j in range (1,1000,5):\n",
    "    spot_list.append(j)\n",
    "\n",
    "for q in range(0,len(delta_list)):\n",
    "    x1=[spot_list[q]]\n",
    "    y1= [gamma_list[q]]\n",
    "    plt.scatter(x1,y1, label = \"stars\", color= \"blue\", marker = \"*\", s = 20)\n",
    "\n",
    "plt.xlabel('Spot - S0')\n",
    "plt.ylabel('Gamma')\n",
    "plt.show()\n",
    "\n",
    "plt.plot(spot_list, gamma_list)"
   ]
  },
  {
   "cell_type": "code",
   "execution_count": 110,
   "id": "73b99936",
   "metadata": {},
   "outputs": [
    {
     "data": {
      "text/plain": [
       "[<matplotlib.lines.Line2D at 0x126cb3b20>]"
      ]
     },
     "execution_count": 110,
     "metadata": {},
     "output_type": "execute_result"
    },
    {
     "data": {
      "image/png": "[encoded data removed]",
      "text/plain": [
       "<Figure size 432x288 with 1 Axes>"
      ]
     },
     "metadata": {
      "needs_background": "light"
     },
     "output_type": "display_data"
    }
   ],
   "source": [
    "#graph vega with respect to vol\n",
    "sigma_list=[]\n",
    "vega_list=[]\n",
    "for i in np.arange(0.00001,3,.01):\n",
    "    vega = get_vega_call(1,0,0,100,110,i)\n",
    "    vega_list.append(vega)\n",
    "    \n",
    "for j in np.arange(0.00001,3,.01):\n",
    "    sigma_list.append(j)\n",
    "\n",
    "for q in range(0,len(delta_list)):\n",
    "    x1=[sigma_list[q]]\n",
    "    y1= [vega_list[q]]\n",
    "    plt.scatter(x1,y1, label = \"stars\", color= \"blue\", marker = \"*\", s = 30)\n",
    "\n",
    "plt.plot(sigma_list, vega_list)"
   ]
  },
  {
   "cell_type": "code",
   "execution_count": 119,
   "id": "50327f94",
   "metadata": {},
   "outputs": [
    {
     "data": {
      "text/plain": [
       "[<matplotlib.lines.Line2D at 0x126f83340>]"
      ]
     },
     "execution_count": 119,
     "metadata": {},
     "output_type": "execute_result"
    },
    {
     "data": {
      "image/png": "[encoded data removed]",
      "text/plain": [
       "<Figure size 432x288 with 1 Axes>"
      ]
     },
     "metadata": {
      "needs_background": "light"
     },
     "output_type": "display_data"
    }
   ],
   "source": [
    "#graph vega with respect to spot\n",
    "spot_list=[]\n",
    "vega_list=[]\n",
    "for i in np.arange(1,1000,5):\n",
    "    vega = get_vega_call(1,0,0,i,110,0.5)\n",
    "    vega_list.append(vega)\n",
    "    \n",
    "for j in np.arange(1,1000,5):\n",
    "    spot_list.append(j)\n",
    "\n",
    "plt.plot(spot_list, vega_list)"
   ]
  },
  {
   "cell_type": "code",
   "execution_count": 127,
   "id": "2e81632b",
   "metadata": {},
   "outputs": [
    {
     "data": {
      "text/plain": [
       "[<matplotlib.lines.Line2D at 0x126f5f340>]"
      ]
     },
     "execution_count": 127,
     "metadata": {},
     "output_type": "execute_result"
    },
    {
     "data": {
      "image/png": "[encoded data removed]",
      "text/plain": [
       "<Figure size 432x288 with 1 Axes>"
      ]
     },
     "metadata": {
      "needs_background": "light"
     },
     "output_type": "display_data"
    }
   ],
   "source": [
    "#graph vega with respect to time\n",
    "time_list=[]\n",
    "vega_list=[]\n",
    "for i in np.arange(0.25,10,.025):\n",
    "    vega = get_vega_call(i,0,0,100,110,0.5)\n",
    "    vega_list.append(vega)\n",
    "    \n",
    "for j in np.arange(0.25,10,.025):\n",
    "    time_list.append(j)\n",
    "\n",
    "plt.plot(time_list, vega_list)"
   ]
  },
  {
   "cell_type": "code",
   "execution_count": null,
   "id": "5b955ca6",
   "metadata": {},
   "outputs": [],
   "source": []
  }
 ],
 "metadata": {
  "kernelspec": {
   "display_name": "Python 3 (ipykernel)",
   "language": "python",
   "name": "python3"
  },
  "language_info": {
   "codemirror_mode": {
    "name": "ipython",
    "version": 3
   },
   "file_extension": ".py",
   "mimetype": "text/x-python",
   "name": "python",
   "nbconvert_exporter": "python",
   "pygments_lexer": "ipython3",
   "version": "3.9.7"
  }
 },
 "nbformat": 4,
 "nbformat_minor": 5
}
