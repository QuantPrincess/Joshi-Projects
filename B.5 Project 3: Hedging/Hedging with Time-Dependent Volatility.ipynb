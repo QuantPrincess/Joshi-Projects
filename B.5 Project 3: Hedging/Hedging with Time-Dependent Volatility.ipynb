{
 "cells": [
  {
   "cell_type": "code",
   "execution_count": 1,
   "id": "7ccae1e4",
   "metadata": {},
   "outputs": [],
   "source": [
    "import pandas as pd\n",
    "import numpy as np\n",
    "import scipy\n",
    "from scipy.stats import norm\n",
    "from scipy import integrate\n",
    "import random\n",
    "import statistics as stat\n",
    "import matplotlib.pyplot as plt"
   ]
  },
  {
   "cell_type": "code",
   "execution_count": 2,
   "id": "61d349cf",
   "metadata": {},
   "outputs": [],
   "source": [
    "def get_geo_path(T,r,d,sigma, S0,steps):\n",
    "    dt= T/steps\n",
    "    t = np.linspace(0,T,steps)\n",
    "    Bt = [0]+ np.random.standard_normal(size=steps)\n",
    "    Bt = np.cumsum(Bt)*np.sqrt(dt)\n",
    "    path = S0*np.exp(((r-d)-0.5*sigma**2)*t+sigma*Bt)\n",
    "    plt.plot(t,path)\n",
    "    return path\n"
   ]
  },
  {
   "cell_type": "code",
   "execution_count": 3,
   "id": "0e79c1bb",
   "metadata": {},
   "outputs": [],
   "source": [
    "# BS Delta of a call option\n",
    "def get_delta_call(T,r,d,S0,K,sigma):\n",
    "    d1 = (np.log(S0/K)+(r+0.5*sigma**2)*T) / (sigma*np.sqrt(T))\n",
    "    d2 = d1-sigma*np.sqrt(T)\n",
    "    delta= norm.cdf(d1)\n",
    "    return delta"
   ]
  },
  {
   "cell_type": "code",
   "execution_count": 4,
   "id": "305fba06",
   "metadata": {},
   "outputs": [],
   "source": [
    "# Price of Call Option function\n",
    "def get_call(T, r, d, S0,K, sigma):\n",
    "    if K==0 or T==0 or sigma ==0:\n",
    "        print('Not a valid input')\n",
    "    elif d == 0:\n",
    "        d1 = (np.log(S0/K)+(r+0.5*sigma**2)*T) / (sigma*np.sqrt(T))\n",
    "        d2 = d1-sigma*np.sqrt(T)\n",
    "        call = S0*norm.cdf(d1) - K*np.exp(-r*T)*norm.cdf(d2)\n",
    "        return call\n",
    "    elif d < 0:\n",
    "        print('Not a valid dividend input')\n",
    "    else:\n",
    "        d1 = (np.log(S0/K)+(r+0.5*sigma**2)*T) / (sigma*np.sqrt(T))\n",
    "        d2 = d1-sigma*np.sqrt(T)\n",
    "        print(d1)\n",
    "        call = np.exp(-d*T)*S0*norm.cdf(d1) - K*np.exp(-r*T)*norm.cdf(d2)\n",
    "        return(call)"
   ]
  },
  {
   "cell_type": "markdown",
   "id": "cbd789fb",
   "metadata": {},
   "source": [
    "## Arbitrary time dependent vol path\n",
    "sigma(t)= {.17 for t<0.2 ||\n",
    "           .15 for 0.2<=t<0.4 ||\n",
    "           .13 for 0.4<=t<0.6 ||\n",
    "           .12 for 0.6<=t<1} \n",
    "* t = time elapsed since start\n",
    "* tau = time to maturity"
   ]
  },
  {
   "cell_type": "code",
   "execution_count": 56,
   "id": "ef4aa882",
   "metadata": {},
   "outputs": [
    {
     "name": "stdout",
     "output_type": "stream",
     "text": [
      "[13.063945294843604, 0.1354160256395084, 0.14492729752751016, 0.16456812165989707, 0.1963068099592157, 0.2010133060430309, 0.21619744062623247, 0.24641218621902902, 0.24546838160577658, 0.2581231402946189, 0.28825816742000115, 0.28317045616797093]\n"
     ]
    },
    {
     "data": {
      "image/png": "[encoded data removed]",
      "text/plain": [
       "<Figure size 432x288 with 1 Axes>"
      ]
     },
     "metadata": {
      "needs_background": "light"
     },
     "output_type": "display_data"
    }
   ],
   "source": [
    "#hedging simulation with time dependent vol using root-mean-square vol\n",
    "#assuming constant sigma(s) function\n",
    "tau =[1.00,0.92,0.83,0.75,0.67,0.58,0.50,0.42,0.33,0.25,0.17,0.08,0.000001]\n",
    "sigma(t)=[0.17,0.15,0.13,0.12]\n",
    "z=[0]\n",
    "\n",
    "for i in range (0,12):\n",
    "    z.append(np.random.randn())\n",
    "S=[100]\n",
    "periods = 12\n",
    "r=0\n",
    "K=106\n",
    "T=1\n",
    "sigma=0.17\n",
    "C0=get_call(T=1, r=0, d=0, S0=100,K=106, sigma=0.17)\n",
    "d1=[]\n",
    "delta=[]\n",
    "ds=[]\n",
    "portfolio=[]\n",
    "bs=[]\n",
    "pnl=[]\n",
    "variance=[]\n",
    "rms_sigma1=[]\n",
    "rms_sigma2=[]\n",
    "tau_rev=tau[::-1]\n",
    "\n",
    "\n",
    "    \n",
    "# root mean square vol\n",
    "for i in range(0,len(tau)-1):\n",
    "    sig = lambda sigma: sigma**2\n",
    "    coeff=1/(tau_rev[i])\n",
    "    rms_sig=((integrate.quad(sig,tau_rev[i],tau_rev[i+1])[0]))\n",
    "    rms_sig=np.sqrt(coeff*rms_sig)\n",
    "    rms_sigma2.append(rms_sig)\n",
    "\n",
    "\n",
    "plt.plot(tau_rev[2:13],rms_sigma2[1:13])\n",
    "\n",
    "print(rms_sigma2)\n"
   ]
  },
  {
   "cell_type": "code",
   "execution_count": 47,
   "id": "169fc47c",
   "metadata": {},
   "outputs": [
    {
     "data": {
      "text/plain": [
       "[<matplotlib.lines.Line2D at 0x12122c1f0>]"
      ]
     },
     "execution_count": 47,
     "metadata": {},
     "output_type": "execute_result"
    },
    {
     "data": {
      "image/png": "[encoded data removed]",
      "text/plain": [
       "<Figure size 432x288 with 1 Axes>"
      ]
     },
     "metadata": {
      "needs_background": "light"
     },
     "output_type": "display_data"
    }
   ],
   "source": [
    "time=np.linspace(0.001,1,100)\n",
    "\n",
    "sigma=0.17\n",
    "rms_sigma2=[]\n",
    "# root mean square vol\n",
    "for i in range(0,len(time)-1):\n",
    "    sig = lambda sigma: sigma**2\n",
    "    coeff=1/(time[i])\n",
    "    rms_sig=((integrate.quad(sig,time[i],time[i+1])[0]))\n",
    "    rms_sig=np.sqrt(coeff*rms_sig)\n",
    "    rms_sigma2.append(rms_sig)\n",
    "\n",
    "\n",
    "plt.plot(time[2:],rms_sigma2[1:])\n"
   ]
  }
 ],
 "metadata": {
  "kernelspec": {
   "display_name": "Python 3 (ipykernel)",
   "language": "python",
   "name": "python3"
  },
  "language_info": {
   "codemirror_mode": {
    "name": "ipython",
    "version": 3
   },
   "file_extension": ".py",
   "mimetype": "text/x-python",
   "name": "python",
   "nbconvert_exporter": "python",
   "pygments_lexer": "ipython3",
   "version": "3.9.7"
  }
 },
 "nbformat": 4,
 "nbformat_minor": 5
}
