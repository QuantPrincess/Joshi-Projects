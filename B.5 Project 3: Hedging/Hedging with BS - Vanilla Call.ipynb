{
 "cells": [
  {
   "cell_type": "code",
   "execution_count": 348,
   "id": "813c2594",
   "metadata": {},
   "outputs": [],
   "source": [
    "import pandas as pd\n",
    "import numpy as np\n",
    "import scipy\n",
    "from scipy.stats import norm\n",
    "import random"
   ]
  },
  {
   "cell_type": "code",
   "execution_count": 349,
   "id": "29ccb9b9",
   "metadata": {},
   "outputs": [],
   "source": [
    "# Price of Call Option function\n",
    "def get_call( T, r, d, S0,K, sigma):\n",
    "    if K==0 or T==0 or sigma ==0:\n",
    "        print('Not a valid input')\n",
    "    elif d == 0:\n",
    "        d1 = (np.log(S0/K)+(r+0.5*sigma**2)*T) / (sigma*np.sqrt(T))\n",
    "        d2 = d1-sigma*np.sqrt(T)\n",
    "        call = S0*norm.cdf(d1) - K*np.exp(-r*T)*norm.cdf(d2)\n",
    "        return call\n",
    "    elif d < 0:\n",
    "        print('Not a valid dividend input')\n",
    "    else:\n",
    "        d1 = (np.log(S0/K)+(r+0.5*sigma**2)*T) / (sigma*np.sqrt(T))\n",
    "        d2 = d1-sigma*np.sqrt(T)\n",
    "        print(d1)\n",
    "        call = np.exp(-d*T)*S0*norm.cdf(d1) - K*np.exp(-r*T)*norm.cdf(d2)\n",
    "        return(call)"
   ]
  },
  {
   "cell_type": "code",
   "execution_count": 350,
   "id": "bab1b829",
   "metadata": {},
   "outputs": [],
   "source": [
    "# BS Delta of a call option\n",
    "def get_delta_call(T,r,d,S0,K,sigma):\n",
    "    d1 = (np.log(S0/K)+(r+0.5*sigma**2)*T) / (sigma*np.sqrt(T))\n",
    "    d2 = d1-sigma*np.sqrt(T)\n",
    "    delta= norm.cdf(d1)\n",
    "    return delta , d1"
   ]
  },
  {
   "cell_type": "code",
   "execution_count": 358,
   "id": "1e299adf",
   "metadata": {
    "scrolled": true
   },
   "outputs": [
    {
     "name": "stdout",
     "output_type": "stream",
     "text": [
      "        S      d1  delta     ds    cash  port    bs   pnl\n",
      "0  100.00   -0.26   0.40  39.83  -35.45  4.38  4.38  0.00\n",
      "1  108.23    0.21   0.58  63.08  -55.42  7.66  8.13 -0.47\n",
      "2  117.14    0.72   0.77  89.61  -76.76 12.85 13.84 -0.98\n",
      "3  132.50    1.59   0.94 125.08 -100.47 24.60 26.99 -2.39\n",
      "4  134.21    1.77   0.96 129.00 -102.79 26.22 28.51 -2.30\n",
      "5  129.46    1.61   0.95 122.50 -100.84 21.66 23.86 -2.21\n",
      "6  114.57    0.71   0.76  87.09  -79.53  7.56 10.64 -3.07\n",
      "7  115.13    0.81   0.79  90.92  -82.93  7.99 10.73 -2.74\n",
      "8  118.49    1.19   0.88 104.60  -93.96 10.64 13.18 -2.54\n",
      "9  109.31    0.40   0.66  71.82  -69.28  2.54  5.54 -3.00\n",
      "10 111.63    0.77   0.78  87.13  -83.06  4.07  6.65 -2.59\n",
      "11 106.77    0.17   0.57  60.75  -60.49  0.27  2.45 -2.18\n",
      "12 102.98 -169.75   0.00   0.00   -1.89 -1.89  0.00 -1.89\n"
     ]
    }
   ],
   "source": [
    "tau =[1.00,0.92,0.83,0.75,0.67,0.58,0.50,0.42,0.33,0.25,0.17,0.08,0.000001]\n",
    "z=[0]\n",
    "for i in range (0,12):\n",
    "    z.append(np.random.randn())\n",
    "S=[100]\n",
    "periods = 12\n",
    "r=0\n",
    "K=106\n",
    "T=1\n",
    "sigma=0.17\n",
    "C0=get_call(T=1, r=0, d=0, S0=100,K=106, sigma=0.17)\n",
    "d1=[]\n",
    "delta=[]\n",
    "ds=[]\n",
    "portfolio=[]\n",
    "bs=[]\n",
    "pnl=[]\n",
    "\n",
    "#generate random stock process\n",
    "S= [100 ,S[0]*np.exp((r-0.5*sigma**2)/periods + sigma*z[2]/np.sqrt(periods))]\n",
    "for j in range(1,12):\n",
    "    S.append(S[j]*np.exp((r-0.5*sigma**2)/periods + sigma*z[j+1]/np.sqrt(periods)))\n",
    "\n",
    "\n",
    "#Generate d1 column\n",
    "for q in range(0,13):\n",
    "    d1.append((np.log(S[q]/K)+(r+0.5*sigma**2)*tau[q]) / (sigma*np.sqrt(tau[q])))\n",
    "    \n",
    "    delta.append(norm.cdf(d1[q]))\n",
    "    ds.append(delta[q]*S[q])\n",
    "\n",
    "\n",
    "#Generate cash and portoflio columns   \n",
    "cash=[C0-ds[0]]\n",
    "\n",
    "for c in range(0,12):\n",
    "    cash.append(cash[c]-(delta[c+1]-delta[c])*S[c+1])\n",
    "  \n",
    "\n",
    "#generate BS Call price evolution\n",
    "for u in range(0,len(cash)):\n",
    "    portfolio.append(ds[u]+cash[u])\n",
    "    bs.append(get_call(tau[u], 0, 0, S[u],106, 0.17))\n",
    "\n",
    "for p in range(0,13):\n",
    "    pnl.append(portfolio[p]-bs[p])\n",
    "    \n",
    "final_pnl=ds[-1]+cash[-1]-(np.maximum(S[-1]-K,0))\n",
    "    \n",
    "\n",
    "\n",
    "s = {'S':S,'d1':d1,'delta':delta,'ds':ds,'cash':cash,'port':portfolio,'bs':bs,'pnl':pnl}\n",
    "pd.DataFrame(s)\n",
    "\n",
    "\n"
   ]
  },
  {
   "cell_type": "code",
   "execution_count": null,
   "id": "8a63b1ad",
   "metadata": {},
   "outputs": [],
   "source": []
  }
 ],
 "metadata": {
  "kernelspec": {
   "display_name": "Python 3 (ipykernel)",
   "language": "python",
   "name": "python3"
  },
  "language_info": {
   "codemirror_mode": {
    "name": "ipython",
    "version": 3
   },
   "file_extension": ".py",
   "mimetype": "text/x-python",
   "name": "python",
   "nbconvert_exporter": "python",
   "pygments_lexer": "ipython3",
   "version": "3.9.7"
  }
 },
 "nbformat": 4,
 "nbformat_minor": 5
}
