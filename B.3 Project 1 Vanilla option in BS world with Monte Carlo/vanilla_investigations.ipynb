{
 "cells": [
  {
   "cell_type": "code",
   "execution_count": 2,
   "id": "ead7d8b9",
   "metadata": {},
   "outputs": [],
   "source": [
    "import pandas as pd\n",
    "import numpy as np\n",
    "import scipy\n",
    "from scipy.stats import norm\n",
    "import matplotlib.pyplot as plt\n",
    "import random\n",
    "import plotly.graph_objects as go\n"
   ]
  },
  {
   "cell_type": "code",
   "execution_count": 3,
   "id": "51fef1b2",
   "metadata": {},
   "outputs": [],
   "source": [
    "def get_bs_call(T,r,d,S,K,sigma):\n",
    "    d1 = (np.log(S/K)+(r+0.5*sigma**2)*T) / (sigma*np.sqrt(T))\n",
    "    d2 = d1-sigma*np.sqrt(T)\n",
    "    call = S*norm.cdf(d1) - K*np.exp(-r*T)*norm.cdf(d2)\n",
    "    print(call)\n",
    "    return call\n",
    "    "
   ]
  },
  {
   "cell_type": "code",
   "execution_count": 4,
   "id": "f5951c7b",
   "metadata": {},
   "outputs": [],
   "source": [
    "# Price of Put Option\n",
    "def get_put(T, r, d, S, K, sigma):\n",
    "    if d == 0:\n",
    "        d1 = (np.log(S/K)+(r+0.5*sigma**2)*T) / (sigma*np.sqrt(T))\n",
    "        d2 = d1-sigma*np.sqrt(T)\n",
    "\n",
    "        put = K*np.exp(-r*T)*norm.cdf(-1*d2) - S*norm.cdf(-1*d1)\n",
    "        print(put)\n",
    "        return put\n",
    "    elif d < 0:\n",
    "        print('Not a valid dividend input')\n",
    "    else:\n",
    "        d1 = (np.log(S/K)+(r+0.5*sigma**2)*T) / (sigma*np.sqrt(T))\n",
    "        d2 = d1-sigma*np.sqrt(T)\n",
    "\n",
    "        put = K*np.exp(-r*T)*norm.cdf(-1*d2) - np.exp(-d*T)*S*norm.cdf(-1*d1)\n",
    "        print(put)\n",
    "        return put"
   ]
  },
  {
   "cell_type": "code",
   "execution_count": 5,
   "id": "d96c3caa",
   "metadata": {},
   "outputs": [],
   "source": [
    "# Pricing of Digital Call\n",
    "def get_dig_call(T, r, d, S, K, sigma):\n",
    "\n",
    "    d1 = (np.log(S/K)+(r+0.5*sigma**2)*T) / (sigma*np.sqrt(T))\n",
    "    d2 = d1-sigma*np.sqrt(T)\n",
    "    dig_call = np.exp(-r*T)*norm.cdf(d2)\n",
    "    print(dig_call)\n",
    "    return dig_call"
   ]
  },
  {
   "cell_type": "code",
   "execution_count": 6,
   "id": "71ba1a55",
   "metadata": {},
   "outputs": [
    {
     "data": {
      "image/png": "[encoded data removed]",
      "text/plain": [
       "<Figure size 432x288 with 1 Axes>"
      ]
     },
     "metadata": {
      "needs_background": "light"
     },
     "output_type": "display_data"
    },
    {
     "name": "stdout",
     "output_type": "stream",
     "text": [
      "When vol is small call price is small, when vol big call price big, but flattens out after around sigma = 2 (200%IV) see graph for curvature\n"
     ]
    }
   ],
   "source": [
    "# How Black Scholes CALL varies as a function of vol change K for OTM ATM or ITM strikes\n",
    "x=1\n",
    "sigma_list=[]\n",
    "call_list=[]\n",
    "\n",
    "# Make a list of randomly generated parameters and call price\n",
    "i=0.0001\n",
    "for x in range(1,1000):\n",
    "    if i < 4:\n",
    "        T = 10\n",
    "        r= 0.02\n",
    "        d= 0\n",
    "        K= 110\n",
    "        S = 100\n",
    "        sigma = i\n",
    "        sigma_list.append(sigma)\n",
    "\n",
    "    #   Calculate price of call option and add to call list\n",
    "\n",
    "        d1 = (np.log(S/K)+(r+0.5*sigma**2)*T) / (sigma*np.sqrt(T))\n",
    "        d2 = d1-sigma*np.sqrt(T)\n",
    "        call = S*norm.cdf(d1) - K*np.exp(-r*T)*norm.cdf(d2)\n",
    "        call_list.append(call)\n",
    "        i=i+0.01\n",
    "    else:\n",
    "        break\n",
    "\n",
    "\n",
    "#Plot strike against call price to visually see monotone decreasing nature of graph\n",
    "i=0\n",
    "for i in range(0,len(sigma_list)):\n",
    "    x1=[sigma_list[i]]\n",
    "    y1= [call_list[i]]\n",
    "    plt.scatter(x1,y1, label = \"stars\", color= \"blue\", marker = \"*\", s = 30)\n",
    "\n",
    "plt.xlabel('Volatility - sigma')\n",
    "plt.ylabel('Call Price - C')\n",
    "plt.show()\n",
    "\n",
    "print('When vol is small call price is small, when vol big call price big, but flattens out after around sigma = 2 (200%IV) see graph for curvature')\n"
   ]
  },
  {
   "cell_type": "code",
   "execution_count": 7,
   "id": "118077ed",
   "metadata": {},
   "outputs": [
    {
     "data": {
      "image/png": "[encoded data removed]",
      "text/plain": [
       "<Figure size 432x288 with 1 Axes>"
      ]
     },
     "metadata": {
      "needs_background": "light"
     },
     "output_type": "display_data"
    },
    {
     "name": "stdout",
     "output_type": "stream",
     "text": [
      "When vol is small digital call price is large, when vol big dig call price small, but flattens out after around sigma = 2 (200%IV) see graph for curvature\n"
     ]
    }
   ],
   "source": [
    "# How Black Scholes dig call varies as a function of vol\n",
    "x=1\n",
    "sigma_list=[]\n",
    "dig_call_list=[]\n",
    "\n",
    "# Make a list of randomly generated parameters and call price\n",
    "i=0.0001\n",
    "for x in range(1,1000):\n",
    "    if i < 4:\n",
    "        T = 10\n",
    "        r= 0.02\n",
    "        d= 0\n",
    "        K= 110\n",
    "        S = 100\n",
    "        sigma = i\n",
    "        sigma_list.append(sigma)\n",
    "\n",
    "    #   Calculate price of call option and add to call list\n",
    "\n",
    "        d1 = (np.log(S/K)+(r+0.5*sigma**2)*T) / (sigma*np.sqrt(T))\n",
    "        d2 = d1-sigma*np.sqrt(T)\n",
    "        dig_call = np.exp(-r*T)*norm.cdf(d2)\n",
    "        dig_call_list.append(dig_call)\n",
    "        i=i+0.01\n",
    "    else:\n",
    "        break\n",
    "\n",
    "\n",
    "#Plot strike against call price to visually see monotone decreasing nature of graph\n",
    "i=0\n",
    "for i in range(0,len(sigma_list)):\n",
    "    x1=[sigma_list[i]]\n",
    "    y1= [dig_call_list[i]]\n",
    "    plt.scatter(x1,y1, label = \"stars\", color= \"blue\", marker = \"*\", s = 30)\n",
    "\n",
    "plt.xlabel('Volatility - sigma')\n",
    "plt.ylabel('Digital Call Price - C')\n",
    "plt.show()\n",
    "\n",
    "print('When vol is small digital call price is large, when vol big dig call price small, but flattens out after around sigma = 2 (200%IV) see graph for curvature')\n"
   ]
  },
  {
   "cell_type": "code",
   "execution_count": 9,
   "id": "93191fcc",
   "metadata": {
    "scrolled": false
   },
   "outputs": [
    {
     "name": "stdout",
     "output_type": "stream",
     "text": [
      "[0. 0. 0. 0. 0. 0. 0. 0. 0. 0. 0. 0. 0. 0. 0. 0. 0. 0. 0. 0. 0. 0. 0. 0.\n",
      " 0. 0. 0. 0. 0. 0. 0. 0. 0. 0. 0. 0. 0. 0. 0. 0. 0. 0. 0. 0. 0. 0. 0. 0.\n",
      " 0. 0. 0. 0. 0. 0. 0. 0. 0. 0. 0. 0.]\n",
      "[ 0.          0.46314917  2.78634714  5.70477309  8.78936805 11.92963754\n",
      " 15.0833446  18.22927297 21.35443505 24.44966009 27.50780385 30.52293328\n",
      " 33.48992279 36.40424146 39.26183554 42.05906124 44.79264504 47.45965952\n",
      " 50.05750801 52.58391406 55.03691346 57.4148474  59.7163559  61.94037086\n",
      " 64.08610858 66.15306141 68.1409885  70.04990563 71.88007414 73.63198899\n",
      " 75.30636604 76.90412866 78.42639376 79.87445732 81.24977965 82.55397032\n",
      " 83.78877303 84.95605049 86.05776935 87.09598542 88.07282911 88.99049134\n",
      " 89.85120989 90.65725634 91.41092354 92.11451389 92.77032819 93.38065531\n",
      " 93.94776268 94.47388747 94.96122868 95.41193995 95.82812324 96.21182327\n",
      " 96.56502271 96.88963815 97.18751679 97.46043378 97.71009026 97.93811195]\n",
      "[ 0.          2.79129952  8.79436307 15.08775713 21.3581681  27.51084077\n",
      " 33.4922754  39.26353198 44.79372512 50.0580204  55.03691346 59.7159034\n",
      " 64.08526618 68.13981968 71.87864165 75.30473043 78.42461214 81.24790469\n",
      " 83.78685218 86.05584432 88.0709356  89.84937752 91.40917596 92.76868337\n",
      " 93.94623333 94.95982278 95.8268446  96.56387156 97.18649044 97.7091837\n",
      " 98.14525482 98.50679256 98.80466885 99.04856463 99.24701812 99.40749014\n",
      " 99.53644156 99.6394183  99.72114019 99.78559035 99.8361025  99.87544428\n",
      " 99.90589508 99.92931738 99.94722125 99.96082161 99.97108854 99.97879078\n",
      " 99.98453301 99.98878732 99.99191963 99.99421149 99.99587796 99.99708214\n",
      " 99.99794685 99.99856393 99.99900155 99.99930996 99.99952597 99.99967631]\n",
      "[  0.           5.71568299  15.09343037  24.45827594  33.49698051\n",
      "  42.06459185  50.06160707  57.41765469  64.08779334  70.05065326\n",
      "  75.30636604  79.87389286  83.78781263  87.09477702  89.84987729\n",
      "  92.11315543  93.94645183  95.41072737  96.56393928  97.45949418\n",
      "  98.14525482  98.66304101  99.04854265  99.33155151  99.53641854\n",
      "  99.68265054  99.78557326  99.85700292  99.90588442  99.93886886\n",
      "  99.96081572  99.97521478  99.98453005  99.99047235  99.99421013\n",
      "  99.99652843  99.99794627  99.9988013   99.99930973  99.99960785\n",
      "  99.99978021  99.99987847  99.99993371  99.99996433  99.99998107\n",
      "  99.99999009  99.99999488  99.99999739  99.99999869  99.99999935\n",
      "  99.99999968  99.99999985  99.99999993  99.99999997  99.99999998\n",
      "  99.99999999 100.         100.         100.         100.        ]\n",
      "[  0.           8.80622678  21.36936699  33.5022736   44.80236539\n",
      "  55.04415883  64.09116272  71.88329706  78.42817527  83.78949331\n",
      "  88.07282911  91.41048668  93.94710728  95.82740405  97.18683259\n",
      "  98.14545323  98.80477658  99.2470716   99.53646458  99.72114744\n",
      "  99.8361025   99.90589241  99.94721813  99.97108588  99.98453103\n",
      "  99.9919183   99.99587711  99.99794634  99.99900126  99.99952581\n",
      "  99.99978021  99.99990055  99.99995608  99.99998107  99.99999203\n",
      "  99.99999673  99.99999869  99.99999949  99.9999998   99.99999993\n",
      "  99.99999997  99.99999999 100.         100.         100.\n",
      " 100.         100.         100.         100.         100.\n",
      " 100.         100.         100.         100.         100.\n",
      " 100.         100.         100.         100.         100.        ]\n",
      "[  0.          11.95232485  27.52723939  42.07454631  55.04850572\n",
      "  66.16116899  75.31159948  82.55701558  88.07434374  92.11505723\n",
      "  94.96122868  96.88938943  98.14573098  98.93306024  99.40761946\n",
      "  99.68273208  99.8361292   99.91839337  99.96082515  99.98187547\n",
      "  99.99191963  99.99652915  99.99856377  99.99942755  99.99978025\n",
      "  99.99991876  99.99997108  99.99999009  99.99999673  99.99999896\n",
      "  99.99999968  99.99999991  99.99999997  99.99999999 100.\n",
      " 100.         100.         100.         100.         100.\n",
      " 100.         100.         100.         100.         100.\n",
      " 100.         100.         100.         100.         100.\n",
      " 100.         100.         100.         100.         100.\n",
      " 100.         100.         100.         100.         100.        ]\n"
     ]
    },
    {
     "data": {
      "application/vnd.plotly.v1+json": {
       "config": {
        "plotlyServerURL": "https://plot.ly"
       },
       "data": [
        {
         "line": {
          "color": "#00CED1",
          "width": 6
         },
         "name": "𝜈 = 0.0001",
         "type": "scatter",
         "visible": false,
         "x": [
          0.0001,
          0.050100000000000006,
          0.10010000000000001,
          0.1501,
          0.2001,
          0.2501,
          0.30010000000000003,
          0.3501,
          0.4001,
          0.4501,
          0.5001,
          0.5501,
          0.6001000000000001,
          0.6501,
          0.7001000000000001,
          0.7501,
          0.8001,
          0.8501000000000001,
          0.9001,
          0.9501000000000001,
          1.0001,
          1.0501,
          1.1001,
          1.1501000000000001,
          1.2001000000000002,
          1.2501,
          1.3001,
          1.3501,
          1.4001000000000001,
          1.4501000000000002,
          1.5001,
          1.5501,
          1.6001,
          1.6501000000000001,
          1.7001000000000002,
          1.7501,
          1.8001,
          1.8501,
          1.9001000000000001,
          1.9501000000000002,
          2.0001,
          2.0501000000000005,
          2.1001000000000003,
          2.1501,
          2.2001000000000004,
          2.2501,
          2.3001000000000005,
          2.3501000000000003,
          2.4001000000000006,
          2.4501000000000004,
          2.5001,
          2.5501000000000005,
          2.6001000000000003,
          2.6501000000000006,
          2.7001000000000004,
          2.7501,
          2.8001000000000005,
          2.8501000000000003,
          2.9001000000000006,
          2.9501000000000004
         ],
         "y": [
          0,
          0,
          0,
          0,
          0,
          0,
          0,
          0,
          0,
          0,
          0,
          0,
          0,
          0,
          0,
          0,
          0,
          0,
          0,
          0,
          0,
          0,
          0,
          0,
          0,
          0,
          0,
          0,
          0,
          0,
          0,
          0,
          0,
          0,
          0,
          0,
          0,
          0,
          0,
          0,
          0,
          0,
          0,
          0,
          0,
          0,
          0,
          0,
          0,
          0,
          0,
          0,
          0,
          0,
          0,
          0,
          0,
          0,
          0,
          0
         ]
        },
        {
         "line": {
          "color": "#00CED1",
          "width": 6
         },
         "name": "𝜈 = 0.5001",
         "type": "scatter",
         "visible": false,
         "x": [
          0.0001,
          0.050100000000000006,
          0.10010000000000001,
          0.1501,
          0.2001,
          0.2501,
          0.30010000000000003,
          0.3501,
          0.4001,
          0.4501,
          0.5001,
          0.5501,
          0.6001000000000001,
          0.6501,
          0.7001000000000001,
          0.7501,
          0.8001,
          0.8501000000000001,
          0.9001,
          0.9501000000000001,
          1.0001,
          1.0501,
          1.1001,
          1.1501000000000001,
          1.2001000000000002,
          1.2501,
          1.3001,
          1.3501,
          1.4001000000000001,
          1.4501000000000002,
          1.5001,
          1.5501,
          1.6001,
          1.6501000000000001,
          1.7001000000000002,
          1.7501,
          1.8001,
          1.8501,
          1.9001000000000001,
          1.9501000000000002,
          2.0001,
          2.0501000000000005,
          2.1001000000000003,
          2.1501,
          2.2001000000000004,
          2.2501,
          2.3001000000000005,
          2.3501000000000003,
          2.4001000000000006,
          2.4501000000000004,
          2.5001,
          2.5501000000000005,
          2.6001000000000003,
          2.6501000000000006,
          2.7001000000000004,
          2.7501,
          2.8001000000000005,
          2.8501000000000003,
          2.9001000000000006,
          2.9501000000000004
         ],
         "y": [
          0,
          0.4631491677808519,
          2.7863471428341313,
          5.704773088504325,
          8.789368047478348,
          11.929637540471425,
          15.08334459647402,
          18.229272972172936,
          21.354435046004767,
          24.449660090736955,
          27.507803851363782,
          30.522933281005777,
          33.48992279032552,
          36.404241458772276,
          39.26183554386753,
          42.0590612442662,
          44.792645036975784,
          47.45965951717082,
          50.05750801062094,
          52.5839140602529,
          55.036913458475084,
          57.414847403303646,
          59.7163558991136,
          61.94037085903694,
          64.08610858090043,
          66.15306140995719,
          68.14098849712634,
          70.04990562738615,
          71.88007413930748,
          73.63198898964427,
          75.30636604034208,
          76.90412866183232,
          78.42639375774627,
          79.87445732337206,
          81.2497796541052,
          82.55397032140957,
          83.78877303286541,
          84.95605049009558,
          86.05776935402714,
          87.09598542132117,
          88.0728291091137,
          88.99049133765824,
          89.85120989223682,
          90.65725633698253,
          91.4109235441946,
          92.1145138934798,
          92.77032818575584,
          93.38065530793408,
          93.94776267507355,
          94.47388746806939,
          94.96122867659666,
          95.41193994915382,
          95.82812324470162,
          96.2118232736298,
          96.5650227096411,
          96.88963814865231,
          97.18751678599135,
          97.46043377902265,
          97.71009025886089,
          97.93811195201991
         ]
        },
        {
         "line": {
          "color": "#00CED1",
          "width": 6
         },
         "name": "𝜈 = 1.0001",
         "type": "scatter",
         "visible": false,
         "x": [
          0.0001,
          0.050100000000000006,
          0.10010000000000001,
          0.1501,
          0.2001,
          0.2501,
          0.30010000000000003,
          0.3501,
          0.4001,
          0.4501,
          0.5001,
          0.5501,
          0.6001000000000001,
          0.6501,
          0.7001000000000001,
          0.7501,
          0.8001,
          0.8501000000000001,
          0.9001,
          0.9501000000000001,
          1.0001,
          1.0501,
          1.1001,
          1.1501000000000001,
          1.2001000000000002,
          1.2501,
          1.3001,
          1.3501,
          1.4001000000000001,
          1.4501000000000002,
          1.5001,
          1.5501,
          1.6001,
          1.6501000000000001,
          1.7001000000000002,
          1.7501,
          1.8001,
          1.8501,
          1.9001000000000001,
          1.9501000000000002,
          2.0001,
          2.0501000000000005,
          2.1001000000000003,
          2.1501,
          2.2001000000000004,
          2.2501,
          2.3001000000000005,
          2.3501000000000003,
          2.4001000000000006,
          2.4501000000000004,
          2.5001,
          2.5501000000000005,
          2.6001000000000003,
          2.6501000000000006,
          2.7001000000000004,
          2.7501,
          2.8001000000000005,
          2.8501000000000003,
          2.9001000000000006,
          2.9501000000000004
         ],
         "y": [
          0,
          2.7912995248463552,
          8.794363072657518,
          15.087757134230209,
          21.358168096585636,
          27.51084077126921,
          33.49227539623146,
          39.2635319849102,
          44.79372511925884,
          50.05802040279766,
          55.036913458475084,
          59.715903404906356,
          64.08526618014639,
          68.13981967748903,
          71.87864164848858,
          75.30473042981757,
          78.42461213967465,
          81.24790469221574,
          83.78685217785306,
          86.05584432352123,
          88.07093560255805,
          89.8493775226272,
          91.40917596193934,
          92.76868336515756,
          93.9462333311144,
          94.9598227787596,
          95.82684459528615,
          96.56387155616733,
          97.18649044052069,
          97.70918370106354,
          98.14525481591451,
          98.50679255748233,
          98.80466885049634,
          99.04856463037996,
          99.2470181168797,
          99.40749014113962,
          99.53644155882529,
          99.63941829894104,
          99.72114019180526,
          99.7855903491445,
          99.83610249947054,
          99.87544428472836,
          99.90589507861885,
          99.92931737875735,
          99.94722124580325,
          99.96082161003325,
          99.97108854092407,
          99.97879078279092,
          99.9845330062494,
          99.98878731942769,
          99.99191963322446,
          99.9942114902151,
          99.99587795529078,
          99.99708213519226,
          99.99794685019225,
          99.99856392963096,
          99.9990015480851,
          99.99930996390854,
          99.99952596908105,
          99.99967631032118
         ]
        },
        {
         "line": {
          "color": "#00CED1",
          "width": 6
         },
         "name": "𝜈 = 1.5001",
         "type": "scatter",
         "visible": false,
         "x": [
          0.0001,
          0.050100000000000006,
          0.10010000000000001,
          0.1501,
          0.2001,
          0.2501,
          0.30010000000000003,
          0.3501,
          0.4001,
          0.4501,
          0.5001,
          0.5501,
          0.6001000000000001,
          0.6501,
          0.7001000000000001,
          0.7501,
          0.8001,
          0.8501000000000001,
          0.9001,
          0.9501000000000001,
          1.0001,
          1.0501,
          1.1001,
          1.1501000000000001,
          1.2001000000000002,
          1.2501,
          1.3001,
          1.3501,
          1.4001000000000001,
          1.4501000000000002,
          1.5001,
          1.5501,
          1.6001,
          1.6501000000000001,
          1.7001000000000002,
          1.7501,
          1.8001,
          1.8501,
          1.9001000000000001,
          1.9501000000000002,
          2.0001,
          2.0501000000000005,
          2.1001000000000003,
          2.1501,
          2.2001000000000004,
          2.2501,
          2.3001000000000005,
          2.3501000000000003,
          2.4001000000000006,
          2.4501000000000004,
          2.5001,
          2.5501000000000005,
          2.6001000000000003,
          2.6501000000000006,
          2.7001000000000004,
          2.7501,
          2.8001000000000005,
          2.8501000000000003,
          2.9001000000000006,
          2.9501000000000004
         ],
         "y": [
          0,
          5.7156829944891285,
          15.093430372829026,
          24.458275938988464,
          33.49698050687173,
          42.06459185255798,
          50.06160706802061,
          57.41765469479844,
          64.08779334459621,
          70.0506532633128,
          75.30636604034208,
          79.87389285579746,
          83.78781262696195,
          87.09477701565524,
          89.84987728602782,
          92.11315543060815,
          93.94645182848694,
          95.41072737200105,
          96.56393928022025,
          97.45949418220816,
          98.14525481591451,
          98.66304101022838,
          99.04854264797228,
          99.33155151237601,
          99.5364185382913,
          99.68265054124673,
          99.78557325760863,
          99.85700291705481,
          99.90588441611331,
          99.93886885530631,
          99.96081571516355,
          99.97521478410508,
          99.98453004873956,
          99.99047235148066,
          99.99421012654352,
          99.99652843051456,
          99.9979462679486,
          99.99880129794619,
          99.99930973258135,
          99.99960785028914,
          99.99978021140394,
          99.99987847433052,
          99.9999337124617,
          99.99996433118957,
          99.99998106651623,
          99.99999008596772,
          99.99999487916104,
          99.99999739086614,
          99.99999868867646,
          99.99999934990666,
          99.9999996821016,
          99.99999984666461,
          99.99999992704872,
          99.99999996576622,
          99.99999998415457,
          99.99999999276605,
          99.99999999674264,
          99.99999999855332,
          99.9999999993663,
          99.99999999972621
         ]
        },
        {
         "line": {
          "color": "#00CED1",
          "width": 6
         },
         "name": "𝜈 = 2.0001",
         "type": "scatter",
         "visible": false,
         "x": [
          0.0001,
          0.050100000000000006,
          0.10010000000000001,
          0.1501,
          0.2001,
          0.2501,
          0.30010000000000003,
          0.3501,
          0.4001,
          0.4501,
          0.5001,
          0.5501,
          0.6001000000000001,
          0.6501,
          0.7001000000000001,
          0.7501,
          0.8001,
          0.8501000000000001,
          0.9001,
          0.9501000000000001,
          1.0001,
          1.0501,
          1.1001,
          1.1501000000000001,
          1.2001000000000002,
          1.2501,
          1.3001,
          1.3501,
          1.4001000000000001,
          1.4501000000000002,
          1.5001,
          1.5501,
          1.6001,
          1.6501000000000001,
          1.7001000000000002,
          1.7501,
          1.8001,
          1.8501,
          1.9001000000000001,
          1.9501000000000002,
          2.0001,
          2.0501000000000005,
          2.1001000000000003,
          2.1501,
          2.2001000000000004,
          2.2501,
          2.3001000000000005,
          2.3501000000000003,
          2.4001000000000006,
          2.4501000000000004,
          2.5001,
          2.5501000000000005,
          2.6001000000000003,
          2.6501000000000006,
          2.7001000000000004,
          2.7501,
          2.8001000000000005,
          2.8501000000000003,
          2.9001000000000006,
          2.9501000000000004
         ],
         "y": [
          0,
          8.806226781647084,
          21.369366988262115,
          33.50227359508146,
          44.802365394057766,
          55.04415882560389,
          64.09116272073777,
          71.88329706056706,
          78.42817526899067,
          83.78949330894005,
          88.0728291091137,
          91.41048667566265,
          93.94710728127552,
          95.82740404531567,
          97.18683259160407,
          98.14545323250626,
          98.80477658329438,
          99.2470716014317,
          99.53646457832325,
          99.72114743890891,
          99.83610249947054,
          99.90589241309745,
          99.9472181317104,
          99.9710858796923,
          99.98453103463532,
          99.99191829763481,
          99.99587710818795,
          99.99794634073766,
          99.99900125535943,
          99.9995258076015,
          99.99978021140394,
          99.99990055468493,
          99.99995607903392,
          99.99998106570823,
          99.9999920329334,
          99.99999672807138,
          99.99999868855498,
          99.99999948699313,
          99.99999980415616,
          99.99999992703778,
          99.99999997347373,
          99.99999999058906,
          99.99999999674193,
          99.99999999889937,
          99.9999999996372,
          99.99999999988331,
          99.99999999996338,
          99.99999999998879,
          99.99999999999665,
          99.99999999999903,
          99.99999999999972,
          99.99999999999993,
          99.99999999999997,
          100,
          100,
          100,
          100,
          100,
          100,
          100
         ]
        },
        {
         "line": {
          "color": "#00CED1",
          "width": 6
         },
         "name": "𝜈 = 2.5001",
         "type": "scatter",
         "visible": true,
         "x": [
          0.0001,
          0.050100000000000006,
          0.10010000000000001,
          0.1501,
          0.2001,
          0.2501,
          0.30010000000000003,
          0.3501,
          0.4001,
          0.4501,
          0.5001,
          0.5501,
          0.6001000000000001,
          0.6501,
          0.7001000000000001,
          0.7501,
          0.8001,
          0.8501000000000001,
          0.9001,
          0.9501000000000001,
          1.0001,
          1.0501,
          1.1001,
          1.1501000000000001,
          1.2001000000000002,
          1.2501,
          1.3001,
          1.3501,
          1.4001000000000001,
          1.4501000000000002,
          1.5001,
          1.5501,
          1.6001,
          1.6501000000000001,
          1.7001000000000002,
          1.7501,
          1.8001,
          1.8501,
          1.9001000000000001,
          1.9501000000000002,
          2.0001,
          2.0501000000000005,
          2.1001000000000003,
          2.1501,
          2.2001000000000004,
          2.2501,
          2.3001000000000005,
          2.3501000000000003,
          2.4001000000000006,
          2.4501000000000004,
          2.5001,
          2.5501000000000005,
          2.6001000000000003,
          2.6501000000000006,
          2.7001000000000004,
          2.7501,
          2.8001000000000005,
          2.8501000000000003,
          2.9001000000000006,
          2.9501000000000004
         ],
         "y": [
          0,
          11.952324849414268,
          27.52723939440672,
          42.07454630586058,
          55.04850572160359,
          66.16116898962532,
          75.3115994792741,
          82.55701558209945,
          88.07434374397171,
          92.11505722514077,
          94.96122867659666,
          96.8893894337641,
          98.14573098448237,
          98.93306024286447,
          99.40761945814593,
          99.68273208465405,
          99.83612920012251,
          99.91839336794901,
          99.96082514655714,
          99.9818754740327,
          99.99191963322446,
          99.99652915001226,
          99.99856377434429,
          99.9994275480793,
          99.99978024573039,
          99.99991875913997,
          99.99997107912392,
          99.99999008683187,
          99.99999672851406,
          99.99999896060781,
          99.9999996821016,
          99.99999990640629,
          99.99999997347646,
          99.99999999276528,
          99.99999999810068,
          99.99999999952011,
          99.99999999988331,
          99.99999999997269,
          99.99999999999386,
          99.99999999999866,
          99.99999999999972,
          99.99999999999994,
          100,
          100,
          100,
          100,
          100,
          100,
          100,
          100,
          100,
          100,
          100,
          100,
          100,
          100,
          100,
          100,
          100,
          100
         ]
        }
       ],
       "layout": {
        "sliders": [
         {
          "active": 10,
          "currentvalue": {
           "prefix": "Sigma: "
          },
          "pad": {
           "t": 50
          },
          "steps": [
           {
            "args": [
             {
              "visible": [
               true,
               false,
               false,
               false,
               false,
               false
              ]
             },
             {
              "title": "Slider switched to step: 0"
             }
            ],
            "method": "update"
           },
           {
            "args": [
             {
              "visible": [
               false,
               true,
               false,
               false,
               false,
               false
              ]
             },
             {
              "title": "Slider switched to step: 1"
             }
            ],
            "method": "update"
           },
           {
            "args": [
             {
              "visible": [
               false,
               false,
               true,
               false,
               false,
               false
              ]
             },
             {
              "title": "Slider switched to step: 2"
             }
            ],
            "method": "update"
           },
           {
            "args": [
             {
              "visible": [
               false,
               false,
               false,
               true,
               false,
               false
              ]
             },
             {
              "title": "Slider switched to step: 3"
             }
            ],
            "method": "update"
           },
           {
            "args": [
             {
              "visible": [
               false,
               false,
               false,
               false,
               true,
               false
              ]
             },
             {
              "title": "Slider switched to step: 4"
             }
            ],
            "method": "update"
           },
           {
            "args": [
             {
              "visible": [
               false,
               false,
               false,
               false,
               false,
               true
              ]
             },
             {
              "title": "Slider switched to step: 5"
             }
            ],
            "method": "update"
           }
          ]
         }
        ],
        "template": {
         "data": {
          "bar": [
           {
            "error_x": {
             "color": "#2a3f5f"
            },
            "error_y": {
             "color": "#2a3f5f"
            },
            "marker": {
             "line": {
              "color": "#E5ECF6",
              "width": 0.5
             },
             "pattern": {
              "fillmode": "overlay",
              "size": 10,
              "solidity": 0.2
             }
            },
            "type": "bar"
           }
          ],
          "barpolar": [
           {
            "marker": {
             "line": {
              "color": "#E5ECF6",
              "width": 0.5
             },
             "pattern": {
              "fillmode": "overlay",
              "size": 10,
              "solidity": 0.2
             }
            },
            "type": "barpolar"
           }
          ],
          "carpet": [
           {
            "aaxis": {
             "endlinecolor": "#2a3f5f",
             "gridcolor": "white",
             "linecolor": "white",
             "minorgridcolor": "white",
             "startlinecolor": "#2a3f5f"
            },
            "baxis": {
             "endlinecolor": "#2a3f5f",
             "gridcolor": "white",
             "linecolor": "white",
             "minorgridcolor": "white",
             "startlinecolor": "#2a3f5f"
            },
            "type": "carpet"
           }
          ],
          "choropleth": [
           {
            "colorbar": {
             "outlinewidth": 0,
             "ticks": ""
            },
            "type": "choropleth"
           }
          ],
          "contour": [
           {
            "colorbar": {
             "outlinewidth": 0,
             "ticks": ""
            },
            "colorscale": [
             [
              0,
              "#0d0887"
             ],
             [
              0.1111111111111111,
              "#46039f"
             ],
             [
              0.2222222222222222,
              "#7201a8"
             ],
             [
              0.3333333333333333,
              "#9c179e"
             ],
             [
              0.4444444444444444,
              "#bd3786"
             ],
             [
              0.5555555555555556,
              "#d8576b"
             ],
             [
              0.6666666666666666,
              "#ed7953"
             ],
             [
              0.7777777777777778,
              "#fb9f3a"
             ],
             [
              0.8888888888888888,
              "#fdca26"
             ],
             [
              1,
              "#f0f921"
             ]
            ],
            "type": "contour"
           }
          ],
          "contourcarpet": [
           {
            "colorbar": {
             "outlinewidth": 0,
             "ticks": ""
            },
            "type": "contourcarpet"
           }
          ],
          "heatmap": [
           {
            "colorbar": {
             "outlinewidth": 0,
             "ticks": ""
            },
            "colorscale": [
             [
              0,
              "#0d0887"
             ],
             [
              0.1111111111111111,
              "#46039f"
             ],
             [
              0.2222222222222222,
              "#7201a8"
             ],
             [
              0.3333333333333333,
              "#9c179e"
             ],
             [
              0.4444444444444444,
              "#bd3786"
             ],
             [
              0.5555555555555556,
              "#d8576b"
             ],
             [
              0.6666666666666666,
              "#ed7953"
             ],
             [
              0.7777777777777778,
              "#fb9f3a"
             ],
             [
              0.8888888888888888,
              "#fdca26"
             ],
             [
              1,
              "#f0f921"
             ]
            ],
            "type": "heatmap"
           }
          ],
          "heatmapgl": [
           {
            "colorbar": {
             "outlinewidth": 0,
             "ticks": ""
            },
            "colorscale": [
             [
              0,
              "#0d0887"
             ],
             [
              0.1111111111111111,
              "#46039f"
             ],
             [
              0.2222222222222222,
              "#7201a8"
             ],
             [
              0.3333333333333333,
              "#9c179e"
             ],
             [
              0.4444444444444444,
              "#bd3786"
             ],
             [
              0.5555555555555556,
              "#d8576b"
             ],
             [
              0.6666666666666666,
              "#ed7953"
             ],
             [
              0.7777777777777778,
              "#fb9f3a"
             ],
             [
              0.8888888888888888,
              "#fdca26"
             ],
             [
              1,
              "#f0f921"
             ]
            ],
            "type": "heatmapgl"
           }
          ],
          "histogram": [
           {
            "marker": {
             "pattern": {
              "fillmode": "overlay",
              "size": 10,
              "solidity": 0.2
             }
            },
            "type": "histogram"
           }
          ],
          "histogram2d": [
           {
            "colorbar": {
             "outlinewidth": 0,
             "ticks": ""
            },
            "colorscale": [
             [
              0,
              "#0d0887"
             ],
             [
              0.1111111111111111,
              "#46039f"
             ],
             [
              0.2222222222222222,
              "#7201a8"
             ],
             [
              0.3333333333333333,
              "#9c179e"
             ],
             [
              0.4444444444444444,
              "#bd3786"
             ],
             [
              0.5555555555555556,
              "#d8576b"
             ],
             [
              0.6666666666666666,
              "#ed7953"
             ],
             [
              0.7777777777777778,
              "#fb9f3a"
             ],
             [
              0.8888888888888888,
              "#fdca26"
             ],
             [
              1,
              "#f0f921"
             ]
            ],
            "type": "histogram2d"
           }
          ],
          "histogram2dcontour": [
           {
            "colorbar": {
             "outlinewidth": 0,
             "ticks": ""
            },
            "colorscale": [
             [
              0,
              "#0d0887"
             ],
             [
              0.1111111111111111,
              "#46039f"
             ],
             [
              0.2222222222222222,
              "#7201a8"
             ],
             [
              0.3333333333333333,
              "#9c179e"
             ],
             [
              0.4444444444444444,
              "#bd3786"
             ],
             [
              0.5555555555555556,
              "#d8576b"
             ],
             [
              0.6666666666666666,
              "#ed7953"
             ],
             [
              0.7777777777777778,
              "#fb9f3a"
             ],
             [
              0.8888888888888888,
              "#fdca26"
             ],
             [
              1,
              "#f0f921"
             ]
            ],
            "type": "histogram2dcontour"
           }
          ],
          "mesh3d": [
           {
            "colorbar": {
             "outlinewidth": 0,
             "ticks": ""
            },
            "type": "mesh3d"
           }
          ],
          "parcoords": [
           {
            "line": {
             "colorbar": {
              "outlinewidth": 0,
              "ticks": ""
             }
            },
            "type": "parcoords"
           }
          ],
          "pie": [
           {
            "automargin": true,
            "type": "pie"
           }
          ],
          "scatter": [
           {
            "marker": {
             "colorbar": {
              "outlinewidth": 0,
              "ticks": ""
             }
            },
            "type": "scatter"
           }
          ],
          "scatter3d": [
           {
            "line": {
             "colorbar": {
              "outlinewidth": 0,
              "ticks": ""
             }
            },
            "marker": {
             "colorbar": {
              "outlinewidth": 0,
              "ticks": ""
             }
            },
            "type": "scatter3d"
           }
          ],
          "scattercarpet": [
           {
            "marker": {
             "colorbar": {
              "outlinewidth": 0,
              "ticks": ""
             }
            },
            "type": "scattercarpet"
           }
          ],
          "scattergeo": [
           {
            "marker": {
             "colorbar": {
              "outlinewidth": 0,
              "ticks": ""
             }
            },
            "type": "scattergeo"
           }
          ],
          "scattergl": [
           {
            "marker": {
             "colorbar": {
              "outlinewidth": 0,
              "ticks": ""
             }
            },
            "type": "scattergl"
           }
          ],
          "scattermapbox": [
           {
            "marker": {
             "colorbar": {
              "outlinewidth": 0,
              "ticks": ""
             }
            },
            "type": "scattermapbox"
           }
          ],
          "scatterpolar": [
           {
            "marker": {
             "colorbar": {
              "outlinewidth": 0,
              "ticks": ""
             }
            },
            "type": "scatterpolar"
           }
          ],
          "scatterpolargl": [
           {
            "marker": {
             "colorbar": {
              "outlinewidth": 0,
              "ticks": ""
             }
            },
            "type": "scatterpolargl"
           }
          ],
          "scatterternary": [
           {
            "marker": {
             "colorbar": {
              "outlinewidth": 0,
              "ticks": ""
             }
            },
            "type": "scatterternary"
           }
          ],
          "surface": [
           {
            "colorbar": {
             "outlinewidth": 0,
             "ticks": ""
            },
            "colorscale": [
             [
              0,
              "#0d0887"
             ],
             [
              0.1111111111111111,
              "#46039f"
             ],
             [
              0.2222222222222222,
              "#7201a8"
             ],
             [
              0.3333333333333333,
              "#9c179e"
             ],
             [
              0.4444444444444444,
              "#bd3786"
             ],
             [
              0.5555555555555556,
              "#d8576b"
             ],
             [
              0.6666666666666666,
              "#ed7953"
             ],
             [
              0.7777777777777778,
              "#fb9f3a"
             ],
             [
              0.8888888888888888,
              "#fdca26"
             ],
             [
              1,
              "#f0f921"
             ]
            ],
            "type": "surface"
           }
          ],
          "table": [
           {
            "cells": {
             "fill": {
              "color": "#EBF0F8"
             },
             "line": {
              "color": "white"
             }
            },
            "header": {
             "fill": {
              "color": "#C8D4E3"
             },
             "line": {
              "color": "white"
             }
            },
            "type": "table"
           }
          ]
         },
         "layout": {
          "annotationdefaults": {
           "arrowcolor": "#2a3f5f",
           "arrowhead": 0,
           "arrowwidth": 1
          },
          "autotypenumbers": "strict",
          "coloraxis": {
           "colorbar": {
            "outlinewidth": 0,
            "ticks": ""
           }
          },
          "colorscale": {
           "diverging": [
            [
             0,
             "#8e0152"
            ],
            [
             0.1,
             "#c51b7d"
            ],
            [
             0.2,
             "#de77ae"
            ],
            [
             0.3,
             "#f1b6da"
            ],
            [
             0.4,
             "#fde0ef"
            ],
            [
             0.5,
             "#f7f7f7"
            ],
            [
             0.6,
             "#e6f5d0"
            ],
            [
             0.7,
             "#b8e186"
            ],
            [
             0.8,
             "#7fbc41"
            ],
            [
             0.9,
             "#4d9221"
            ],
            [
             1,
             "#276419"
            ]
           ],
           "sequential": [
            [
             0,
             "#0d0887"
            ],
            [
             0.1111111111111111,
             "#46039f"
            ],
            [
             0.2222222222222222,
             "#7201a8"
            ],
            [
             0.3333333333333333,
             "#9c179e"
            ],
            [
             0.4444444444444444,
             "#bd3786"
            ],
            [
             0.5555555555555556,
             "#d8576b"
            ],
            [
             0.6666666666666666,
             "#ed7953"
            ],
            [
             0.7777777777777778,
             "#fb9f3a"
            ],
            [
             0.8888888888888888,
             "#fdca26"
            ],
            [
             1,
             "#f0f921"
            ]
           ],
           "sequentialminus": [
            [
             0,
             "#0d0887"
            ],
            [
             0.1111111111111111,
             "#46039f"
            ],
            [
             0.2222222222222222,
             "#7201a8"
            ],
            [
             0.3333333333333333,
             "#9c179e"
            ],
            [
             0.4444444444444444,
             "#bd3786"
            ],
            [
             0.5555555555555556,
             "#d8576b"
            ],
            [
             0.6666666666666666,
             "#ed7953"
            ],
            [
             0.7777777777777778,
             "#fb9f3a"
            ],
            [
             0.8888888888888888,
             "#fdca26"
            ],
            [
             1,
             "#f0f921"
            ]
           ]
          },
          "colorway": [
           "#636efa",
           "#EF553B",
           "#00cc96",
           "#ab63fa",
           "#FFA15A",
           "#19d3f3",
           "#FF6692",
           "#B6E880",
           "#FF97FF",
           "#FECB52"
          ],
          "font": {
           "color": "#2a3f5f"
          },
          "geo": {
           "bgcolor": "white",
           "lakecolor": "white",
           "landcolor": "#E5ECF6",
           "showlakes": true,
           "showland": true,
           "subunitcolor": "white"
          },
          "hoverlabel": {
           "align": "left"
          },
          "hovermode": "closest",
          "mapbox": {
           "style": "light"
          },
          "paper_bgcolor": "white",
          "plot_bgcolor": "#E5ECF6",
          "polar": {
           "angularaxis": {
            "gridcolor": "white",
            "linecolor": "white",
            "ticks": ""
           },
           "bgcolor": "#E5ECF6",
           "radialaxis": {
            "gridcolor": "white",
            "linecolor": "white",
            "ticks": ""
           }
          },
          "scene": {
           "xaxis": {
            "backgroundcolor": "#E5ECF6",
            "gridcolor": "white",
            "gridwidth": 2,
            "linecolor": "white",
            "showbackground": true,
            "ticks": "",
            "zerolinecolor": "white"
           },
           "yaxis": {
            "backgroundcolor": "#E5ECF6",
            "gridcolor": "white",
            "gridwidth": 2,
            "linecolor": "white",
            "showbackground": true,
            "ticks": "",
            "zerolinecolor": "white"
           },
           "zaxis": {
            "backgroundcolor": "#E5ECF6",
            "gridcolor": "white",
            "gridwidth": 2,
            "linecolor": "white",
            "showbackground": true,
            "ticks": "",
            "zerolinecolor": "white"
           }
          },
          "shapedefaults": {
           "line": {
            "color": "#2a3f5f"
           }
          },
          "ternary": {
           "aaxis": {
            "gridcolor": "white",
            "linecolor": "white",
            "ticks": ""
           },
           "baxis": {
            "gridcolor": "white",
            "linecolor": "white",
            "ticks": ""
           },
           "bgcolor": "#E5ECF6",
           "caxis": {
            "gridcolor": "white",
            "linecolor": "white",
            "ticks": ""
           }
          },
          "title": {
           "x": 0.05
          },
          "xaxis": {
           "automargin": true,
           "gridcolor": "white",
           "linecolor": "white",
           "ticks": "",
           "title": {
            "standoff": 15
           },
           "zerolinecolor": "white",
           "zerolinewidth": 2
          },
          "yaxis": {
           "automargin": true,
           "gridcolor": "white",
           "linecolor": "white",
           "ticks": "",
           "title": {
            "standoff": 15
           },
           "zerolinecolor": "white",
           "zerolinewidth": 2
          }
         }
        }
       }
      },
      "text/html": [
       "<div>                            <div id=\"f78a52d4-8ac8-4411-94d5-fa6d15b37719\" class=\"plotly-graph-div\" style=\"height:525px; width:100%;\"></div>            <script type=\"text/javascript\">                require([\"plotly\"], function(Plotly) {                    window.PLOTLYENV=window.PLOTLYENV || {};                                    if (document.getElementById(\"f78a52d4-8ac8-4411-94d5-fa6d15b37719\")) {                    Plotly.newPlot(                        \"f78a52d4-8ac8-4411-94d5-fa6d15b37719\",                        [{\"line\":{\"color\":\"#00CED1\",\"width\":6},\"name\":\"\\ud835\\udf08 = 0.0001\",\"visible\":false,\"x\":[0.0001,0.050100000000000006,0.10010000000000001,0.1501,0.2001,0.2501,0.30010000000000003,0.3501,0.4001,0.4501,0.5001,0.5501,0.6001000000000001,0.6501,0.7001000000000001,0.7501,0.8001,0.8501000000000001,0.9001,0.9501000000000001,1.0001,1.0501,1.1001,1.1501000000000001,1.2001000000000002,1.2501,1.3001,1.3501,1.4001000000000001,1.4501000000000002,1.5001,1.5501,1.6001,1.6501000000000001,1.7001000000000002,1.7501,1.8001,1.8501,1.9001000000000001,1.9501000000000002,2.0001,2.0501000000000005,2.1001000000000003,2.1501,2.2001000000000004,2.2501,2.3001000000000005,2.3501000000000003,2.4001000000000006,2.4501000000000004,2.5001,2.5501000000000005,2.6001000000000003,2.6501000000000006,2.7001000000000004,2.7501,2.8001000000000005,2.8501000000000003,2.9001000000000006,2.9501000000000004],\"y\":[0.0,0.0,0.0,0.0,0.0,0.0,0.0,0.0,0.0,0.0,0.0,0.0,0.0,0.0,0.0,0.0,0.0,0.0,0.0,0.0,0.0,0.0,0.0,0.0,0.0,0.0,0.0,0.0,0.0,0.0,0.0,0.0,0.0,0.0,0.0,0.0,0.0,0.0,0.0,0.0,0.0,0.0,0.0,0.0,0.0,0.0,0.0,0.0,0.0,0.0,0.0,0.0,0.0,0.0,0.0,0.0,0.0,0.0,0.0,0.0],\"type\":\"scatter\"},{\"line\":{\"color\":\"#00CED1\",\"width\":6},\"name\":\"\\ud835\\udf08 = 0.5001\",\"visible\":false,\"x\":[0.0001,0.050100000000000006,0.10010000000000001,0.1501,0.2001,0.2501,0.30010000000000003,0.3501,0.4001,0.4501,0.5001,0.5501,0.6001000000000001,0.6501,0.7001000000000001,0.7501,0.8001,0.8501000000000001,0.9001,0.9501000000000001,1.0001,1.0501,1.1001,1.1501000000000001,1.2001000000000002,1.2501,1.3001,1.3501,1.4001000000000001,1.4501000000000002,1.5001,1.5501,1.6001,1.6501000000000001,1.7001000000000002,1.7501,1.8001,1.8501,1.9001000000000001,1.9501000000000002,2.0001,2.0501000000000005,2.1001000000000003,2.1501,2.2001000000000004,2.2501,2.3001000000000005,2.3501000000000003,2.4001000000000006,2.4501000000000004,2.5001,2.5501000000000005,2.6001000000000003,2.6501000000000006,2.7001000000000004,2.7501,2.8001000000000005,2.8501000000000003,2.9001000000000006,2.9501000000000004],\"y\":[0.0,0.4631491677808519,2.7863471428341313,5.704773088504325,8.789368047478348,11.929637540471425,15.08334459647402,18.229272972172936,21.354435046004767,24.449660090736955,27.507803851363782,30.522933281005777,33.48992279032552,36.404241458772276,39.26183554386753,42.0590612442662,44.792645036975784,47.45965951717082,50.05750801062094,52.5839140602529,55.036913458475084,57.414847403303646,59.7163558991136,61.94037085903694,64.08610858090043,66.15306140995719,68.14098849712634,70.04990562738615,71.88007413930748,73.63198898964427,75.30636604034208,76.90412866183232,78.42639375774627,79.87445732337206,81.2497796541052,82.55397032140957,83.78877303286541,84.95605049009558,86.05776935402714,87.09598542132117,88.0728291091137,88.99049133765824,89.85120989223682,90.65725633698253,91.4109235441946,92.1145138934798,92.77032818575584,93.38065530793408,93.94776267507355,94.47388746806939,94.96122867659666,95.41193994915382,95.82812324470162,96.2118232736298,96.5650227096411,96.88963814865231,97.18751678599135,97.46043377902265,97.71009025886089,97.93811195201991],\"type\":\"scatter\"},{\"line\":{\"color\":\"#00CED1\",\"width\":6},\"name\":\"\\ud835\\udf08 = 1.0001\",\"visible\":false,\"x\":[0.0001,0.050100000000000006,0.10010000000000001,0.1501,0.2001,0.2501,0.30010000000000003,0.3501,0.4001,0.4501,0.5001,0.5501,0.6001000000000001,0.6501,0.7001000000000001,0.7501,0.8001,0.8501000000000001,0.9001,0.9501000000000001,1.0001,1.0501,1.1001,1.1501000000000001,1.2001000000000002,1.2501,1.3001,1.3501,1.4001000000000001,1.4501000000000002,1.5001,1.5501,1.6001,1.6501000000000001,1.7001000000000002,1.7501,1.8001,1.8501,1.9001000000000001,1.9501000000000002,2.0001,2.0501000000000005,2.1001000000000003,2.1501,2.2001000000000004,2.2501,2.3001000000000005,2.3501000000000003,2.4001000000000006,2.4501000000000004,2.5001,2.5501000000000005,2.6001000000000003,2.6501000000000006,2.7001000000000004,2.7501,2.8001000000000005,2.8501000000000003,2.9001000000000006,2.9501000000000004],\"y\":[0.0,2.7912995248463552,8.794363072657518,15.087757134230209,21.358168096585636,27.51084077126921,33.49227539623146,39.2635319849102,44.79372511925884,50.05802040279766,55.036913458475084,59.715903404906356,64.08526618014639,68.13981967748903,71.87864164848858,75.30473042981757,78.42461213967465,81.24790469221574,83.78685217785306,86.05584432352123,88.07093560255805,89.8493775226272,91.40917596193934,92.76868336515756,93.9462333311144,94.9598227787596,95.82684459528615,96.56387155616733,97.18649044052069,97.70918370106354,98.14525481591451,98.50679255748233,98.80466885049634,99.04856463037996,99.2470181168797,99.40749014113962,99.53644155882529,99.63941829894104,99.72114019180526,99.7855903491445,99.83610249947054,99.87544428472836,99.90589507861885,99.92931737875735,99.94722124580325,99.96082161003325,99.97108854092407,99.97879078279092,99.9845330062494,99.98878731942769,99.99191963322446,99.9942114902151,99.99587795529078,99.99708213519226,99.99794685019225,99.99856392963096,99.9990015480851,99.99930996390854,99.99952596908105,99.99967631032118],\"type\":\"scatter\"},{\"line\":{\"color\":\"#00CED1\",\"width\":6},\"name\":\"\\ud835\\udf08 = 1.5001\",\"visible\":false,\"x\":[0.0001,0.050100000000000006,0.10010000000000001,0.1501,0.2001,0.2501,0.30010000000000003,0.3501,0.4001,0.4501,0.5001,0.5501,0.6001000000000001,0.6501,0.7001000000000001,0.7501,0.8001,0.8501000000000001,0.9001,0.9501000000000001,1.0001,1.0501,1.1001,1.1501000000000001,1.2001000000000002,1.2501,1.3001,1.3501,1.4001000000000001,1.4501000000000002,1.5001,1.5501,1.6001,1.6501000000000001,1.7001000000000002,1.7501,1.8001,1.8501,1.9001000000000001,1.9501000000000002,2.0001,2.0501000000000005,2.1001000000000003,2.1501,2.2001000000000004,2.2501,2.3001000000000005,2.3501000000000003,2.4001000000000006,2.4501000000000004,2.5001,2.5501000000000005,2.6001000000000003,2.6501000000000006,2.7001000000000004,2.7501,2.8001000000000005,2.8501000000000003,2.9001000000000006,2.9501000000000004],\"y\":[0.0,5.7156829944891285,15.093430372829026,24.458275938988464,33.49698050687173,42.06459185255798,50.06160706802061,57.41765469479844,64.08779334459621,70.0506532633128,75.30636604034208,79.87389285579746,83.78781262696195,87.09477701565524,89.84987728602782,92.11315543060815,93.94645182848694,95.41072737200105,96.56393928022025,97.45949418220816,98.14525481591451,98.66304101022838,99.04854264797228,99.33155151237601,99.5364185382913,99.68265054124673,99.78557325760863,99.85700291705481,99.90588441611331,99.93886885530631,99.96081571516355,99.97521478410508,99.98453004873956,99.99047235148066,99.99421012654352,99.99652843051456,99.9979462679486,99.99880129794619,99.99930973258135,99.99960785028914,99.99978021140394,99.99987847433052,99.9999337124617,99.99996433118957,99.99998106651623,99.99999008596772,99.99999487916104,99.99999739086614,99.99999868867646,99.99999934990666,99.9999996821016,99.99999984666461,99.99999992704872,99.99999996576622,99.99999998415457,99.99999999276605,99.99999999674264,99.99999999855332,99.9999999993663,99.99999999972621],\"type\":\"scatter\"},{\"line\":{\"color\":\"#00CED1\",\"width\":6},\"name\":\"\\ud835\\udf08 = 2.0001\",\"visible\":false,\"x\":[0.0001,0.050100000000000006,0.10010000000000001,0.1501,0.2001,0.2501,0.30010000000000003,0.3501,0.4001,0.4501,0.5001,0.5501,0.6001000000000001,0.6501,0.7001000000000001,0.7501,0.8001,0.8501000000000001,0.9001,0.9501000000000001,1.0001,1.0501,1.1001,1.1501000000000001,1.2001000000000002,1.2501,1.3001,1.3501,1.4001000000000001,1.4501000000000002,1.5001,1.5501,1.6001,1.6501000000000001,1.7001000000000002,1.7501,1.8001,1.8501,1.9001000000000001,1.9501000000000002,2.0001,2.0501000000000005,2.1001000000000003,2.1501,2.2001000000000004,2.2501,2.3001000000000005,2.3501000000000003,2.4001000000000006,2.4501000000000004,2.5001,2.5501000000000005,2.6001000000000003,2.6501000000000006,2.7001000000000004,2.7501,2.8001000000000005,2.8501000000000003,2.9001000000000006,2.9501000000000004],\"y\":[0.0,8.806226781647084,21.369366988262115,33.50227359508146,44.802365394057766,55.04415882560389,64.09116272073777,71.88329706056706,78.42817526899067,83.78949330894005,88.0728291091137,91.41048667566265,93.94710728127552,95.82740404531567,97.18683259160407,98.14545323250626,98.80477658329438,99.2470716014317,99.53646457832325,99.72114743890891,99.83610249947054,99.90589241309745,99.9472181317104,99.9710858796923,99.98453103463532,99.99191829763481,99.99587710818795,99.99794634073766,99.99900125535943,99.9995258076015,99.99978021140394,99.99990055468493,99.99995607903392,99.99998106570823,99.9999920329334,99.99999672807138,99.99999868855498,99.99999948699313,99.99999980415616,99.99999992703778,99.99999997347373,99.99999999058906,99.99999999674193,99.99999999889937,99.9999999996372,99.99999999988331,99.99999999996338,99.99999999998879,99.99999999999665,99.99999999999903,99.99999999999972,99.99999999999993,99.99999999999997,100.0,100.0,100.0,100.0,100.0,100.0,100.0],\"type\":\"scatter\"},{\"line\":{\"color\":\"#00CED1\",\"width\":6},\"name\":\"\\ud835\\udf08 = 2.5001\",\"visible\":true,\"x\":[0.0001,0.050100000000000006,0.10010000000000001,0.1501,0.2001,0.2501,0.30010000000000003,0.3501,0.4001,0.4501,0.5001,0.5501,0.6001000000000001,0.6501,0.7001000000000001,0.7501,0.8001,0.8501000000000001,0.9001,0.9501000000000001,1.0001,1.0501,1.1001,1.1501000000000001,1.2001000000000002,1.2501,1.3001,1.3501,1.4001000000000001,1.4501000000000002,1.5001,1.5501,1.6001,1.6501000000000001,1.7001000000000002,1.7501,1.8001,1.8501,1.9001000000000001,1.9501000000000002,2.0001,2.0501000000000005,2.1001000000000003,2.1501,2.2001000000000004,2.2501,2.3001000000000005,2.3501000000000003,2.4001000000000006,2.4501000000000004,2.5001,2.5501000000000005,2.6001000000000003,2.6501000000000006,2.7001000000000004,2.7501,2.8001000000000005,2.8501000000000003,2.9001000000000006,2.9501000000000004],\"y\":[0.0,11.952324849414268,27.52723939440672,42.07454630586058,55.04850572160359,66.16116898962532,75.3115994792741,82.55701558209945,88.07434374397171,92.11505722514077,94.96122867659666,96.8893894337641,98.14573098448237,98.93306024286447,99.40761945814593,99.68273208465405,99.83612920012251,99.91839336794901,99.96082514655714,99.9818754740327,99.99191963322446,99.99652915001226,99.99856377434429,99.9994275480793,99.99978024573039,99.99991875913997,99.99997107912392,99.99999008683187,99.99999672851406,99.99999896060781,99.9999996821016,99.99999990640629,99.99999997347646,99.99999999276528,99.99999999810068,99.99999999952011,99.99999999988331,99.99999999997269,99.99999999999386,99.99999999999866,99.99999999999972,99.99999999999994,100.0,100.0,100.0,100.0,100.0,100.0,100.0,100.0,100.0,100.0,100.0,100.0,100.0,100.0,100.0,100.0,100.0,100.0],\"type\":\"scatter\"}],                        {\"template\":{\"data\":{\"bar\":[{\"error_x\":{\"color\":\"#2a3f5f\"},\"error_y\":{\"color\":\"#2a3f5f\"},\"marker\":{\"line\":{\"color\":\"#E5ECF6\",\"width\":0.5},\"pattern\":{\"fillmode\":\"overlay\",\"size\":10,\"solidity\":0.2}},\"type\":\"bar\"}],\"barpolar\":[{\"marker\":{\"line\":{\"color\":\"#E5ECF6\",\"width\":0.5},\"pattern\":{\"fillmode\":\"overlay\",\"size\":10,\"solidity\":0.2}},\"type\":\"barpolar\"}],\"carpet\":[{\"aaxis\":{\"endlinecolor\":\"#2a3f5f\",\"gridcolor\":\"white\",\"linecolor\":\"white\",\"minorgridcolor\":\"white\",\"startlinecolor\":\"#2a3f5f\"},\"baxis\":{\"endlinecolor\":\"#2a3f5f\",\"gridcolor\":\"white\",\"linecolor\":\"white\",\"minorgridcolor\":\"white\",\"startlinecolor\":\"#2a3f5f\"},\"type\":\"carpet\"}],\"choropleth\":[{\"colorbar\":{\"outlinewidth\":0,\"ticks\":\"\"},\"type\":\"choropleth\"}],\"contour\":[{\"colorbar\":{\"outlinewidth\":0,\"ticks\":\"\"},\"colorscale\":[[0.0,\"#0d0887\"],[0.1111111111111111,\"#46039f\"],[0.2222222222222222,\"#7201a8\"],[0.3333333333333333,\"#9c179e\"],[0.4444444444444444,\"#bd3786\"],[0.5555555555555556,\"#d8576b\"],[0.6666666666666666,\"#ed7953\"],[0.7777777777777778,\"#fb9f3a\"],[0.8888888888888888,\"#fdca26\"],[1.0,\"#f0f921\"]],\"type\":\"contour\"}],\"contourcarpet\":[{\"colorbar\":{\"outlinewidth\":0,\"ticks\":\"\"},\"type\":\"contourcarpet\"}],\"heatmap\":[{\"colorbar\":{\"outlinewidth\":0,\"ticks\":\"\"},\"colorscale\":[[0.0,\"#0d0887\"],[0.1111111111111111,\"#46039f\"],[0.2222222222222222,\"#7201a8\"],[0.3333333333333333,\"#9c179e\"],[0.4444444444444444,\"#bd3786\"],[0.5555555555555556,\"#d8576b\"],[0.6666666666666666,\"#ed7953\"],[0.7777777777777778,\"#fb9f3a\"],[0.8888888888888888,\"#fdca26\"],[1.0,\"#f0f921\"]],\"type\":\"heatmap\"}],\"heatmapgl\":[{\"colorbar\":{\"outlinewidth\":0,\"ticks\":\"\"},\"colorscale\":[[0.0,\"#0d0887\"],[0.1111111111111111,\"#46039f\"],[0.2222222222222222,\"#7201a8\"],[0.3333333333333333,\"#9c179e\"],[0.4444444444444444,\"#bd3786\"],[0.5555555555555556,\"#d8576b\"],[0.6666666666666666,\"#ed7953\"],[0.7777777777777778,\"#fb9f3a\"],[0.8888888888888888,\"#fdca26\"],[1.0,\"#f0f921\"]],\"type\":\"heatmapgl\"}],\"histogram\":[{\"marker\":{\"pattern\":{\"fillmode\":\"overlay\",\"size\":10,\"solidity\":0.2}},\"type\":\"histogram\"}],\"histogram2d\":[{\"colorbar\":{\"outlinewidth\":0,\"ticks\":\"\"},\"colorscale\":[[0.0,\"#0d0887\"],[0.1111111111111111,\"#46039f\"],[0.2222222222222222,\"#7201a8\"],[0.3333333333333333,\"#9c179e\"],[0.4444444444444444,\"#bd3786\"],[0.5555555555555556,\"#d8576b\"],[0.6666666666666666,\"#ed7953\"],[0.7777777777777778,\"#fb9f3a\"],[0.8888888888888888,\"#fdca26\"],[1.0,\"#f0f921\"]],\"type\":\"histogram2d\"}],\"histogram2dcontour\":[{\"colorbar\":{\"outlinewidth\":0,\"ticks\":\"\"},\"colorscale\":[[0.0,\"#0d0887\"],[0.1111111111111111,\"#46039f\"],[0.2222222222222222,\"#7201a8\"],[0.3333333333333333,\"#9c179e\"],[0.4444444444444444,\"#bd3786\"],[0.5555555555555556,\"#d8576b\"],[0.6666666666666666,\"#ed7953\"],[0.7777777777777778,\"#fb9f3a\"],[0.8888888888888888,\"#fdca26\"],[1.0,\"#f0f921\"]],\"type\":\"histogram2dcontour\"}],\"mesh3d\":[{\"colorbar\":{\"outlinewidth\":0,\"ticks\":\"\"},\"type\":\"mesh3d\"}],\"parcoords\":[{\"line\":{\"colorbar\":{\"outlinewidth\":0,\"ticks\":\"\"}},\"type\":\"parcoords\"}],\"pie\":[{\"automargin\":true,\"type\":\"pie\"}],\"scatter\":[{\"marker\":{\"colorbar\":{\"outlinewidth\":0,\"ticks\":\"\"}},\"type\":\"scatter\"}],\"scatter3d\":[{\"line\":{\"colorbar\":{\"outlinewidth\":0,\"ticks\":\"\"}},\"marker\":{\"colorbar\":{\"outlinewidth\":0,\"ticks\":\"\"}},\"type\":\"scatter3d\"}],\"scattercarpet\":[{\"marker\":{\"colorbar\":{\"outlinewidth\":0,\"ticks\":\"\"}},\"type\":\"scattercarpet\"}],\"scattergeo\":[{\"marker\":{\"colorbar\":{\"outlinewidth\":0,\"ticks\":\"\"}},\"type\":\"scattergeo\"}],\"scattergl\":[{\"marker\":{\"colorbar\":{\"outlinewidth\":0,\"ticks\":\"\"}},\"type\":\"scattergl\"}],\"scattermapbox\":[{\"marker\":{\"colorbar\":{\"outlinewidth\":0,\"ticks\":\"\"}},\"type\":\"scattermapbox\"}],\"scatterpolar\":[{\"marker\":{\"colorbar\":{\"outlinewidth\":0,\"ticks\":\"\"}},\"type\":\"scatterpolar\"}],\"scatterpolargl\":[{\"marker\":{\"colorbar\":{\"outlinewidth\":0,\"ticks\":\"\"}},\"type\":\"scatterpolargl\"}],\"scatterternary\":[{\"marker\":{\"colorbar\":{\"outlinewidth\":0,\"ticks\":\"\"}},\"type\":\"scatterternary\"}],\"surface\":[{\"colorbar\":{\"outlinewidth\":0,\"ticks\":\"\"},\"colorscale\":[[0.0,\"#0d0887\"],[0.1111111111111111,\"#46039f\"],[0.2222222222222222,\"#7201a8\"],[0.3333333333333333,\"#9c179e\"],[0.4444444444444444,\"#bd3786\"],[0.5555555555555556,\"#d8576b\"],[0.6666666666666666,\"#ed7953\"],[0.7777777777777778,\"#fb9f3a\"],[0.8888888888888888,\"#fdca26\"],[1.0,\"#f0f921\"]],\"type\":\"surface\"}],\"table\":[{\"cells\":{\"fill\":{\"color\":\"#EBF0F8\"},\"line\":{\"color\":\"white\"}},\"header\":{\"fill\":{\"color\":\"#C8D4E3\"},\"line\":{\"color\":\"white\"}},\"type\":\"table\"}]},\"layout\":{\"annotationdefaults\":{\"arrowcolor\":\"#2a3f5f\",\"arrowhead\":0,\"arrowwidth\":1},\"autotypenumbers\":\"strict\",\"coloraxis\":{\"colorbar\":{\"outlinewidth\":0,\"ticks\":\"\"}},\"colorscale\":{\"diverging\":[[0,\"#8e0152\"],[0.1,\"#c51b7d\"],[0.2,\"#de77ae\"],[0.3,\"#f1b6da\"],[0.4,\"#fde0ef\"],[0.5,\"#f7f7f7\"],[0.6,\"#e6f5d0\"],[0.7,\"#b8e186\"],[0.8,\"#7fbc41\"],[0.9,\"#4d9221\"],[1,\"#276419\"]],\"sequential\":[[0.0,\"#0d0887\"],[0.1111111111111111,\"#46039f\"],[0.2222222222222222,\"#7201a8\"],[0.3333333333333333,\"#9c179e\"],[0.4444444444444444,\"#bd3786\"],[0.5555555555555556,\"#d8576b\"],[0.6666666666666666,\"#ed7953\"],[0.7777777777777778,\"#fb9f3a\"],[0.8888888888888888,\"#fdca26\"],[1.0,\"#f0f921\"]],\"sequentialminus\":[[0.0,\"#0d0887\"],[0.1111111111111111,\"#46039f\"],[0.2222222222222222,\"#7201a8\"],[0.3333333333333333,\"#9c179e\"],[0.4444444444444444,\"#bd3786\"],[0.5555555555555556,\"#d8576b\"],[0.6666666666666666,\"#ed7953\"],[0.7777777777777778,\"#fb9f3a\"],[0.8888888888888888,\"#fdca26\"],[1.0,\"#f0f921\"]]},\"colorway\":[\"#636efa\",\"#EF553B\",\"#00cc96\",\"#ab63fa\",\"#FFA15A\",\"#19d3f3\",\"#FF6692\",\"#B6E880\",\"#FF97FF\",\"#FECB52\"],\"font\":{\"color\":\"#2a3f5f\"},\"geo\":{\"bgcolor\":\"white\",\"lakecolor\":\"white\",\"landcolor\":\"#E5ECF6\",\"showlakes\":true,\"showland\":true,\"subunitcolor\":\"white\"},\"hoverlabel\":{\"align\":\"left\"},\"hovermode\":\"closest\",\"mapbox\":{\"style\":\"light\"},\"paper_bgcolor\":\"white\",\"plot_bgcolor\":\"#E5ECF6\",\"polar\":{\"angularaxis\":{\"gridcolor\":\"white\",\"linecolor\":\"white\",\"ticks\":\"\"},\"bgcolor\":\"#E5ECF6\",\"radialaxis\":{\"gridcolor\":\"white\",\"linecolor\":\"white\",\"ticks\":\"\"}},\"scene\":{\"xaxis\":{\"backgroundcolor\":\"#E5ECF6\",\"gridcolor\":\"white\",\"gridwidth\":2,\"linecolor\":\"white\",\"showbackground\":true,\"ticks\":\"\",\"zerolinecolor\":\"white\"},\"yaxis\":{\"backgroundcolor\":\"#E5ECF6\",\"gridcolor\":\"white\",\"gridwidth\":2,\"linecolor\":\"white\",\"showbackground\":true,\"ticks\":\"\",\"zerolinecolor\":\"white\"},\"zaxis\":{\"backgroundcolor\":\"#E5ECF6\",\"gridcolor\":\"white\",\"gridwidth\":2,\"linecolor\":\"white\",\"showbackground\":true,\"ticks\":\"\",\"zerolinecolor\":\"white\"}},\"shapedefaults\":{\"line\":{\"color\":\"#2a3f5f\"}},\"ternary\":{\"aaxis\":{\"gridcolor\":\"white\",\"linecolor\":\"white\",\"ticks\":\"\"},\"baxis\":{\"gridcolor\":\"white\",\"linecolor\":\"white\",\"ticks\":\"\"},\"bgcolor\":\"#E5ECF6\",\"caxis\":{\"gridcolor\":\"white\",\"linecolor\":\"white\",\"ticks\":\"\"}},\"title\":{\"x\":0.05},\"xaxis\":{\"automargin\":true,\"gridcolor\":\"white\",\"linecolor\":\"white\",\"ticks\":\"\",\"title\":{\"standoff\":15},\"zerolinecolor\":\"white\",\"zerolinewidth\":2},\"yaxis\":{\"automargin\":true,\"gridcolor\":\"white\",\"linecolor\":\"white\",\"ticks\":\"\",\"title\":{\"standoff\":15},\"zerolinecolor\":\"white\",\"zerolinewidth\":2}}},\"sliders\":[{\"active\":10,\"currentvalue\":{\"prefix\":\"Sigma: \"},\"pad\":{\"t\":50},\"steps\":[{\"args\":[{\"visible\":[true,false,false,false,false,false]},{\"title\":\"Slider switched to step: 0\"}],\"method\":\"update\"},{\"args\":[{\"visible\":[false,true,false,false,false,false]},{\"title\":\"Slider switched to step: 1\"}],\"method\":\"update\"},{\"args\":[{\"visible\":[false,false,true,false,false,false]},{\"title\":\"Slider switched to step: 2\"}],\"method\":\"update\"},{\"args\":[{\"visible\":[false,false,false,true,false,false]},{\"title\":\"Slider switched to step: 3\"}],\"method\":\"update\"},{\"args\":[{\"visible\":[false,false,false,false,true,false]},{\"title\":\"Slider switched to step: 4\"}],\"method\":\"update\"},{\"args\":[{\"visible\":[false,false,false,false,false,true]},{\"title\":\"Slider switched to step: 5\"}],\"method\":\"update\"}]}]},                        {\"responsive\": true}                    ).then(function(){\n",
       "                            \n",
       "var gd = document.getElementById('f78a52d4-8ac8-4411-94d5-fa6d15b37719');\n",
       "var x = new MutationObserver(function (mutations, observer) {{\n",
       "        var display = window.getComputedStyle(gd).display;\n",
       "        if (!display || display === 'none') {{\n",
       "            console.log([gd, 'removed!']);\n",
       "            Plotly.purge(gd);\n",
       "            observer.disconnect();\n",
       "        }}\n",
       "}});\n",
       "\n",
       "// Listen for the removal of the full notebook cells\n",
       "var notebookContainer = gd.closest('#notebook-container');\n",
       "if (notebookContainer) {{\n",
       "    x.observe(notebookContainer, {childList: true});\n",
       "}}\n",
       "\n",
       "// Listen for the clearing of the current output cell\n",
       "var outputEl = gd.closest('.output');\n",
       "if (outputEl) {{\n",
       "    x.observe(outputEl, {childList: true});\n",
       "}}\n",
       "\n",
       "                        })                };                });            </script>        </div>"
      ]
     },
     "metadata": {},
     "output_type": "display_data"
    }
   ],
   "source": [
    "# Create figure\n",
    "fig = go.Figure()\n",
    "\n",
    "# Add traces, one for each slider step\n",
    "for step in np.arange(0.0001, 3, .5):\n",
    "    fig.add_trace(\n",
    "        go.Scatter(\n",
    "            visible=False,\n",
    "            line=dict(color=\"#00CED1\", width=6),\n",
    "            name=\"𝜈 = \" + str(step),\n",
    "            x=np.arange(0.0001, 3, 0.05),\n",
    "            y=(get_bs_call(10,0,0,100,110,(step * np.arange(0.0001, 3, .05))))))\n",
    "\n",
    "# Make 10th trace visible\n",
    "fig.data[5].visible = True\n",
    "\n",
    "# Create and add slider\n",
    "steps = []\n",
    "for i in range(len(fig.data)):\n",
    "    step = dict(\n",
    "        method=\"update\",\n",
    "        args=[{\"visible\": [False] * len(fig.data)},\n",
    "              {\"title\": \"Slider switched to step: \" + str(i)}],  # layout attribute\n",
    "    )\n",
    "    step[\"args\"][0][\"visible\"][i] = True  # Toggle i'th trace to \"visible\"\n",
    "    steps.append(step)\n",
    "\n",
    "sliders = [dict(\n",
    "    active=10,\n",
    "    currentvalue={\"prefix\": \"Sigma: \"},\n",
    "    pad={\"t\": 50},\n",
    "    steps=steps\n",
    ")]\n",
    "\n",
    "fig.update_layout(\n",
    "    sliders=sliders\n",
    ")\n",
    "\n",
    "fig.show()"
   ]
  },
  {
   "cell_type": "code",
   "execution_count": 10,
   "id": "d8ec7189",
   "metadata": {},
   "outputs": [],
   "source": [
    "def get_intrinsic_put(T,r,d,S,K,sigma):\n",
    "    intrinsic = K-S\n",
    "    return intrinsic"
   ]
  },
  {
   "cell_type": "code",
   "execution_count": 11,
   "id": "d8eed37e",
   "metadata": {
    "scrolled": true
   },
   "outputs": [
    {
     "name": "stdout",
     "output_type": "stream",
     "text": [
      "89.06786002407377\n",
      "88.1039764335153\n",
      "87.17387577084376\n",
      "86.27700913983946\n",
      "85.41160755728221\n",
      "84.57565971559121\n",
      "83.76720051606743\n",
      "82.9844004623174\n",
      "82.22558716337055\n",
      "81.48924216144651\n",
      "80.77398908673096\n",
      "80.07857944879697\n",
      "79.40187858781492\n",
      "78.74285274072712\n",
      "78.10055750933036\n",
      "77.4741277338787\n",
      "76.86276866275668\n",
      "76.26574827200552\n",
      "75.68239058542812\n",
      "75.11206985695594\n",
      "74.5542054927858\n",
      "74.00825760731357\n",
      "73.47372312231352\n",
      "72.95013233247812\n",
      "72.43704587221642\n",
      "71.93405202861672\n",
      "71.4407643539109\n",
      "70.95681953785105\n",
      "70.48187550633395\n",
      "70.01560971757254\n",
      "69.55771763127466\n",
      "69.10791132978758\n",
      "68.6659182731095\n",
      "68.23148017215554\n",
      "67.80435196677007\n",
      "67.38430089676217\n",
      "66.97110565576352\n",
      "66.56455561900484\n",
      "66.1644501372205\n",
      "65.77059788984526\n",
      "65.38281629149006\n",
      "65.00093094639416\n",
      "64.62477514616637\n",
      "64.25418940666202\n",
      "63.889021040308\n",
      "63.529123760593336\n",
      "63.174357315798176\n",
      "62.82458714934586\n",
      "62.47968408443519\n",
      "62.139524030852236\n",
      "61.8039877120729\n",
      "61.47296041095614\n",
      "61.14633173249422\n",
      "60.82399538223446\n",
      "60.50584895911905\n",
      "60.191793761606505\n",
      "59.88173460604355\n",
      "59.575579656349944\n",
      "59.273240264162624\n",
      "58.97463081866155\n",
      "58.67966860536656\n",
      "58.38827367325672\n",
      "58.100368709617534\n",
      "57.81587892207208\n",
      "57.53473192729652\n",
      "57.25685764596135\n",
      "56.98218820347638\n",
      "56.71065783615159\n",
      "56.44220280241575\n",
      "56.176761298762514\n",
      "55.914273380119894\n",
      "55.65468088436043\n",
      "55.397927360691966\n",
      "55.14395800168738\n",
      "54.89271957872918\n",
      "54.64416038066189\n",
      "54.39823015545845\n",
      "54.154880054722256\n",
      "53.91406258085743\n",
      "53.6757315367523\n",
      "53.43984197783148\n",
      "53.20635016634152\n",
      "52.97521352774427\n",
      "52.74639060910049\n",
      "52.51984103933358\n",
      "52.295525491270965\n",
      "52.073405645366854\n",
      "51.85344415501613\n",
      "51.63560461337521\n",
      "51.41985152161064\n",
      "51.206150258500955\n",
      "50.99446705132242\n",
      "50.78476894795264\n",
      "50.577023790130966\n",
      "50.371200187817315\n",
      "50.167267494594924\n",
      "49.965195784065955\n",
      "49.76495582719107\n",
      "49.566519070527846\n"
     ]
    },
    {
     "data": {
      "image/png": "[encoded data removed]",
      "text/plain": [
       "<Figure size 432x288 with 1 Axes>"
      ]
     },
     "metadata": {
      "needs_background": "light"
     },
     "output_type": "display_data"
    }
   ],
   "source": [
    "# BS put value and instrisic value graphed\n",
    "\n",
    "x=1\n",
    "put_list=[]\n",
    "intrinsic_list=[]\n",
    "stock_price_list=[]\n",
    "\n",
    "\n",
    "# Make a list of randomly generated parameters and call price\n",
    "\n",
    "for i in range(1,100):\n",
    "        T = 10\n",
    "        r= 0.02\n",
    "        d= 0\n",
    "        K= 110\n",
    "        S = i\n",
    "        sigma = 0.5\n",
    "        stock_price_list.append(S)\n",
    "\n",
    "    #   Calculate price of call option and add to call list\n",
    "\n",
    "        put = get_put(T,r,d,S,K,sigma)\n",
    "        put_list.append(put)\n",
    "        \n",
    "    # Calculate intrinsic put value\n",
    "        intrinsic = get_intrinsic_put(T,r,d,S,K,sigma)\n",
    "        intrinsic_list.append(intrinsic)\n",
    "        i=i+5\n",
    "   \n",
    "# print(put_list, intrinsic_list,stock_price_list)\n",
    "\n",
    "x1 = stock_price_list\n",
    "y1 = put_list\n",
    "y2 = intrinsic_list\n",
    "\n",
    "\n",
    "plt.plot(x1,y1)\n",
    "plt.plot(x1,y2)\n",
    "plt.legend([\"BS put price\", \"Intrinsic Value\"])\n",
    "\n",
    "\n",
    "#Plot strike against call price to visually see monotone decreasing nature of graph\n",
    "for i in range(0,len(put_list)):\n",
    "    x1=[stock_price_list[i]]\n",
    "    y1= [put_list[i]]\n",
    "    y2= intrinsic_list[i]\n",
    "    plt.scatter(x1,y1, label = \"stars\", color= \"blue\", marker = \"*\", s = 30)\n",
    "    plt.scatter(x1,y2, label = \"stars\", color= \"pink\", marker = \"*\", s = 30)\n",
    "\n",
    "plt.xlabel( 'Stock Price')\n",
    "plt.legend(['Put price','Intrinsic Value'])\n",
    "# plt.xlim([0, 100])\n",
    "# plt.ylim([0, 100])\n",
    "plt.show()"
   ]
  },
  {
   "cell_type": "code",
   "execution_count": null,
   "id": "7236b9e4",
   "metadata": {},
   "outputs": [],
   "source": []
  }
 ],
 "metadata": {
  "kernelspec": {
   "display_name": "Python 3 (ipykernel)",
   "language": "python",
   "name": "python3"
  },
  "language_info": {
   "codemirror_mode": {
    "name": "ipython",
    "version": 3
   },
   "file_extension": ".py",
   "mimetype": "text/x-python",
   "name": "python",
   "nbconvert_exporter": "python",
   "pygments_lexer": "ipython3",
   "version": "3.9.7"
  }
 },
 "nbformat": 4,
 "nbformat_minor": 5
}
